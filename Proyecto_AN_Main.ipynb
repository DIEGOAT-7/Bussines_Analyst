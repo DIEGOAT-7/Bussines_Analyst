{
 "cells": [
  {
   "cell_type": "markdown",
   "metadata": {},
   "source": [
    "## **Descripción del proyecto**\n",
    "\n",
    "**Te han ofrecido hacer prácticas en el departamento de analítica de Showz, una empresa de venta de entradas de eventos. Tu primera tarea es ayudar a optimizar los gastos de marketing.**"
   ]
  },
  {
   "cell_type": "code",
   "execution_count": 135,
   "metadata": {},
   "outputs": [],
   "source": [
    "import pandas as pd\n",
    "import matplotlib.pyplot as plt\n",
    "import seaborn as sns"
   ]
  },
  {
   "cell_type": "code",
   "execution_count": 136,
   "metadata": {},
   "outputs": [],
   "source": [
    "# Cargar los datos\n",
    "df_visits = pd.read_csv('visits_log_us.csv')\n",
    "df_orders = pd.read_csv('orders_log_us.csv')\n",
    "df_costs = pd.read_csv('costs_us.csv')"
   ]
  },
  {
   "cell_type": "code",
   "execution_count": 137,
   "metadata": {},
   "outputs": [
    {
     "name": "stdout",
     "output_type": "stream",
     "text": [
      "Visits Data:\n"
     ]
    },
    {
     "data": {
      "text/html": [
       "<div>\n",
       "<style scoped>\n",
       "    .dataframe tbody tr th:only-of-type {\n",
       "        vertical-align: middle;\n",
       "    }\n",
       "\n",
       "    .dataframe tbody tr th {\n",
       "        vertical-align: top;\n",
       "    }\n",
       "\n",
       "    .dataframe thead th {\n",
       "        text-align: right;\n",
       "    }\n",
       "</style>\n",
       "<table border=\"1\" class=\"dataframe\">\n",
       "  <thead>\n",
       "    <tr style=\"text-align: right;\">\n",
       "      <th></th>\n",
       "      <th>Device</th>\n",
       "      <th>End Ts</th>\n",
       "      <th>Source Id</th>\n",
       "      <th>Start Ts</th>\n",
       "      <th>Uid</th>\n",
       "    </tr>\n",
       "  </thead>\n",
       "  <tbody>\n",
       "    <tr>\n",
       "      <th>0</th>\n",
       "      <td>touch</td>\n",
       "      <td>2017-12-20 17:38:00</td>\n",
       "      <td>4</td>\n",
       "      <td>2017-12-20 17:20:00</td>\n",
       "      <td>16879256277535980062</td>\n",
       "    </tr>\n",
       "    <tr>\n",
       "      <th>1</th>\n",
       "      <td>desktop</td>\n",
       "      <td>2018-02-19 17:21:00</td>\n",
       "      <td>2</td>\n",
       "      <td>2018-02-19 16:53:00</td>\n",
       "      <td>104060357244891740</td>\n",
       "    </tr>\n",
       "    <tr>\n",
       "      <th>2</th>\n",
       "      <td>touch</td>\n",
       "      <td>2017-07-01 01:54:00</td>\n",
       "      <td>5</td>\n",
       "      <td>2017-07-01 01:54:00</td>\n",
       "      <td>7459035603376831527</td>\n",
       "    </tr>\n",
       "    <tr>\n",
       "      <th>3</th>\n",
       "      <td>desktop</td>\n",
       "      <td>2018-05-20 11:23:00</td>\n",
       "      <td>9</td>\n",
       "      <td>2018-05-20 10:59:00</td>\n",
       "      <td>16174680259334210214</td>\n",
       "    </tr>\n",
       "    <tr>\n",
       "      <th>4</th>\n",
       "      <td>desktop</td>\n",
       "      <td>2017-12-27 14:06:00</td>\n",
       "      <td>3</td>\n",
       "      <td>2017-12-27 14:06:00</td>\n",
       "      <td>9969694820036681168</td>\n",
       "    </tr>\n",
       "  </tbody>\n",
       "</table>\n",
       "</div>"
      ],
      "text/plain": [
       "    Device               End Ts  Source Id             Start Ts  \\\n",
       "0    touch  2017-12-20 17:38:00          4  2017-12-20 17:20:00   \n",
       "1  desktop  2018-02-19 17:21:00          2  2018-02-19 16:53:00   \n",
       "2    touch  2017-07-01 01:54:00          5  2017-07-01 01:54:00   \n",
       "3  desktop  2018-05-20 11:23:00          9  2018-05-20 10:59:00   \n",
       "4  desktop  2017-12-27 14:06:00          3  2017-12-27 14:06:00   \n",
       "\n",
       "                    Uid  \n",
       "0  16879256277535980062  \n",
       "1    104060357244891740  \n",
       "2   7459035603376831527  \n",
       "3  16174680259334210214  \n",
       "4   9969694820036681168  "
      ]
     },
     "execution_count": 137,
     "metadata": {},
     "output_type": "execute_result"
    }
   ],
   "source": [
    "# Mostrar las primeras filas de cada dataset\n",
    "print(\"Visits Data:\")\n",
    "df_visits.head()"
   ]
  },
  {
   "cell_type": "code",
   "execution_count": 138,
   "metadata": {},
   "outputs": [
    {
     "name": "stdout",
     "output_type": "stream",
     "text": [
      "Orders Data:\n"
     ]
    },
    {
     "data": {
      "text/html": [
       "<div>\n",
       "<style scoped>\n",
       "    .dataframe tbody tr th:only-of-type {\n",
       "        vertical-align: middle;\n",
       "    }\n",
       "\n",
       "    .dataframe tbody tr th {\n",
       "        vertical-align: top;\n",
       "    }\n",
       "\n",
       "    .dataframe thead th {\n",
       "        text-align: right;\n",
       "    }\n",
       "</style>\n",
       "<table border=\"1\" class=\"dataframe\">\n",
       "  <thead>\n",
       "    <tr style=\"text-align: right;\">\n",
       "      <th></th>\n",
       "      <th>Buy Ts</th>\n",
       "      <th>Revenue</th>\n",
       "      <th>Uid</th>\n",
       "    </tr>\n",
       "  </thead>\n",
       "  <tbody>\n",
       "    <tr>\n",
       "      <th>0</th>\n",
       "      <td>2017-06-01 00:10:00</td>\n",
       "      <td>17.00</td>\n",
       "      <td>10329302124590727494</td>\n",
       "    </tr>\n",
       "    <tr>\n",
       "      <th>1</th>\n",
       "      <td>2017-06-01 00:25:00</td>\n",
       "      <td>0.55</td>\n",
       "      <td>11627257723692907447</td>\n",
       "    </tr>\n",
       "    <tr>\n",
       "      <th>2</th>\n",
       "      <td>2017-06-01 00:27:00</td>\n",
       "      <td>0.37</td>\n",
       "      <td>17903680561304213844</td>\n",
       "    </tr>\n",
       "    <tr>\n",
       "      <th>3</th>\n",
       "      <td>2017-06-01 00:29:00</td>\n",
       "      <td>0.55</td>\n",
       "      <td>16109239769442553005</td>\n",
       "    </tr>\n",
       "    <tr>\n",
       "      <th>4</th>\n",
       "      <td>2017-06-01 07:58:00</td>\n",
       "      <td>0.37</td>\n",
       "      <td>14200605875248379450</td>\n",
       "    </tr>\n",
       "  </tbody>\n",
       "</table>\n",
       "</div>"
      ],
      "text/plain": [
       "                Buy Ts  Revenue                   Uid\n",
       "0  2017-06-01 00:10:00    17.00  10329302124590727494\n",
       "1  2017-06-01 00:25:00     0.55  11627257723692907447\n",
       "2  2017-06-01 00:27:00     0.37  17903680561304213844\n",
       "3  2017-06-01 00:29:00     0.55  16109239769442553005\n",
       "4  2017-06-01 07:58:00     0.37  14200605875248379450"
      ]
     },
     "execution_count": 138,
     "metadata": {},
     "output_type": "execute_result"
    }
   ],
   "source": [
    "print(\"Orders Data:\")\n",
    "df_orders.head()"
   ]
  },
  {
   "cell_type": "code",
   "execution_count": 139,
   "metadata": {},
   "outputs": [
    {
     "name": "stdout",
     "output_type": "stream",
     "text": [
      "Costs Data:\n"
     ]
    },
    {
     "data": {
      "text/html": [
       "<div>\n",
       "<style scoped>\n",
       "    .dataframe tbody tr th:only-of-type {\n",
       "        vertical-align: middle;\n",
       "    }\n",
       "\n",
       "    .dataframe tbody tr th {\n",
       "        vertical-align: top;\n",
       "    }\n",
       "\n",
       "    .dataframe thead th {\n",
       "        text-align: right;\n",
       "    }\n",
       "</style>\n",
       "<table border=\"1\" class=\"dataframe\">\n",
       "  <thead>\n",
       "    <tr style=\"text-align: right;\">\n",
       "      <th></th>\n",
       "      <th>source_id</th>\n",
       "      <th>dt</th>\n",
       "      <th>costs</th>\n",
       "    </tr>\n",
       "  </thead>\n",
       "  <tbody>\n",
       "    <tr>\n",
       "      <th>0</th>\n",
       "      <td>1</td>\n",
       "      <td>2017-06-01</td>\n",
       "      <td>75.20</td>\n",
       "    </tr>\n",
       "    <tr>\n",
       "      <th>1</th>\n",
       "      <td>1</td>\n",
       "      <td>2017-06-02</td>\n",
       "      <td>62.25</td>\n",
       "    </tr>\n",
       "    <tr>\n",
       "      <th>2</th>\n",
       "      <td>1</td>\n",
       "      <td>2017-06-03</td>\n",
       "      <td>36.53</td>\n",
       "    </tr>\n",
       "    <tr>\n",
       "      <th>3</th>\n",
       "      <td>1</td>\n",
       "      <td>2017-06-04</td>\n",
       "      <td>55.00</td>\n",
       "    </tr>\n",
       "    <tr>\n",
       "      <th>4</th>\n",
       "      <td>1</td>\n",
       "      <td>2017-06-05</td>\n",
       "      <td>57.08</td>\n",
       "    </tr>\n",
       "  </tbody>\n",
       "</table>\n",
       "</div>"
      ],
      "text/plain": [
       "   source_id          dt  costs\n",
       "0          1  2017-06-01  75.20\n",
       "1          1  2017-06-02  62.25\n",
       "2          1  2017-06-03  36.53\n",
       "3          1  2017-06-04  55.00\n",
       "4          1  2017-06-05  57.08"
      ]
     },
     "execution_count": 139,
     "metadata": {},
     "output_type": "execute_result"
    }
   ],
   "source": [
    "print(\"Costs Data:\")\n",
    "df_costs.head()"
   ]
  },
  {
   "cell_type": "code",
   "execution_count": 140,
   "metadata": {},
   "outputs": [
    {
     "name": "stdout",
     "output_type": "stream",
     "text": [
      "Visits:\n",
      "<class 'pandas.core.frame.DataFrame'>\n",
      "RangeIndex: 359400 entries, 0 to 359399\n",
      "Data columns (total 5 columns):\n",
      " #   Column     Non-Null Count   Dtype \n",
      "---  ------     --------------   ----- \n",
      " 0   Device     359400 non-null  object\n",
      " 1   End Ts     359400 non-null  object\n",
      " 2   Source Id  359400 non-null  int64 \n",
      " 3   Start Ts   359400 non-null  object\n",
      " 4   Uid        359400 non-null  uint64\n",
      "dtypes: int64(1), object(3), uint64(1)\n",
      "memory usage: 13.7+ MB\n",
      "\n",
      "Orders:\n",
      "<class 'pandas.core.frame.DataFrame'>\n",
      "RangeIndex: 50415 entries, 0 to 50414\n",
      "Data columns (total 3 columns):\n",
      " #   Column   Non-Null Count  Dtype  \n",
      "---  ------   --------------  -----  \n",
      " 0   Buy Ts   50415 non-null  object \n",
      " 1   Revenue  50415 non-null  float64\n",
      " 2   Uid      50415 non-null  uint64 \n",
      "dtypes: float64(1), object(1), uint64(1)\n",
      "memory usage: 1.2+ MB\n",
      "\n",
      "Costs:\n",
      "<class 'pandas.core.frame.DataFrame'>\n",
      "RangeIndex: 2542 entries, 0 to 2541\n",
      "Data columns (total 3 columns):\n",
      " #   Column     Non-Null Count  Dtype  \n",
      "---  ------     --------------  -----  \n",
      " 0   source_id  2542 non-null   int64  \n",
      " 1   dt         2542 non-null   object \n",
      " 2   costs      2542 non-null   float64\n",
      "dtypes: float64(1), int64(1), object(1)\n",
      "memory usage: 59.7+ KB\n"
     ]
    }
   ],
   "source": [
    "# Verificar los datos\n",
    "print('Visits:')\n",
    "df_visits.info()\n",
    "print()\n",
    "print('Orders:')\n",
    "df_orders.info()\n",
    "print()\n",
    "print('Costs:')\n",
    "df_costs.info()"
   ]
  },
  {
   "cell_type": "markdown",
   "metadata": {},
   "source": [
    "### Optimizar los datos"
   ]
  },
  {
   "cell_type": "code",
   "execution_count": 141,
   "metadata": {},
   "outputs": [],
   "source": [
    "# Renombrar columnas\n",
    "df_visits.rename(columns={\"Start Ts\": \"start_ts\", \"End Ts\": \"end_ts\"}, inplace=True)\n",
    "df_orders.rename(columns={\"Buy Ts\": \"buy_ts\"}, inplace=True)\n",
    "\n",
    "# Convertir columnas a datetime\n",
    "df_visits[\"start_ts\"] = pd.to_datetime(df_visits[\"start_ts\"])\n",
    "df_visits[\"end_ts\"] = pd.to_datetime(df_visits[\"end_ts\"])\n",
    "df_orders[\"buy_ts\"] = pd.to_datetime(df_orders[\"buy_ts\"])\n",
    "df_costs[\"dt\"] = pd.to_datetime(df_costs[\"dt\"])"
   ]
  },
  {
   "cell_type": "markdown",
   "metadata": {},
   "source": [
    "## Paso 2:  informes y calcular métricas"
   ]
  },
  {
   "cell_type": "markdown",
   "metadata": {},
   "source": [
    "### Métricas de visitas"
   ]
  },
  {
   "cell_type": "code",
   "execution_count": 142,
   "metadata": {},
   "outputs": [
    {
     "data": {
      "text/html": [
       "<div>\n",
       "<style scoped>\n",
       "    .dataframe tbody tr th:only-of-type {\n",
       "        vertical-align: middle;\n",
       "    }\n",
       "\n",
       "    .dataframe tbody tr th {\n",
       "        vertical-align: top;\n",
       "    }\n",
       "\n",
       "    .dataframe thead th {\n",
       "        text-align: right;\n",
       "    }\n",
       "</style>\n",
       "<table border=\"1\" class=\"dataframe\">\n",
       "  <thead>\n",
       "    <tr style=\"text-align: right;\">\n",
       "      <th></th>\n",
       "      <th>Device</th>\n",
       "      <th>end_ts</th>\n",
       "      <th>Source Id</th>\n",
       "      <th>start_ts</th>\n",
       "      <th>Uid</th>\n",
       "      <th>session_year</th>\n",
       "      <th>session_month</th>\n",
       "      <th>session_week</th>\n",
       "      <th>session_date</th>\n",
       "    </tr>\n",
       "  </thead>\n",
       "  <tbody>\n",
       "    <tr>\n",
       "      <th>0</th>\n",
       "      <td>touch</td>\n",
       "      <td>2017-12-20 17:38:00</td>\n",
       "      <td>4</td>\n",
       "      <td>2017-12-20 17:20:00</td>\n",
       "      <td>16879256277535980062</td>\n",
       "      <td>2017</td>\n",
       "      <td>12</td>\n",
       "      <td>51</td>\n",
       "      <td>2017-12-20</td>\n",
       "    </tr>\n",
       "    <tr>\n",
       "      <th>1</th>\n",
       "      <td>desktop</td>\n",
       "      <td>2018-02-19 17:21:00</td>\n",
       "      <td>2</td>\n",
       "      <td>2018-02-19 16:53:00</td>\n",
       "      <td>104060357244891740</td>\n",
       "      <td>2018</td>\n",
       "      <td>2</td>\n",
       "      <td>8</td>\n",
       "      <td>2018-02-19</td>\n",
       "    </tr>\n",
       "    <tr>\n",
       "      <th>2</th>\n",
       "      <td>touch</td>\n",
       "      <td>2017-07-01 01:54:00</td>\n",
       "      <td>5</td>\n",
       "      <td>2017-07-01 01:54:00</td>\n",
       "      <td>7459035603376831527</td>\n",
       "      <td>2017</td>\n",
       "      <td>7</td>\n",
       "      <td>26</td>\n",
       "      <td>2017-07-01</td>\n",
       "    </tr>\n",
       "    <tr>\n",
       "      <th>3</th>\n",
       "      <td>desktop</td>\n",
       "      <td>2018-05-20 11:23:00</td>\n",
       "      <td>9</td>\n",
       "      <td>2018-05-20 10:59:00</td>\n",
       "      <td>16174680259334210214</td>\n",
       "      <td>2018</td>\n",
       "      <td>5</td>\n",
       "      <td>20</td>\n",
       "      <td>2018-05-20</td>\n",
       "    </tr>\n",
       "    <tr>\n",
       "      <th>4</th>\n",
       "      <td>desktop</td>\n",
       "      <td>2017-12-27 14:06:00</td>\n",
       "      <td>3</td>\n",
       "      <td>2017-12-27 14:06:00</td>\n",
       "      <td>9969694820036681168</td>\n",
       "      <td>2017</td>\n",
       "      <td>12</td>\n",
       "      <td>52</td>\n",
       "      <td>2017-12-27</td>\n",
       "    </tr>\n",
       "  </tbody>\n",
       "</table>\n",
       "</div>"
      ],
      "text/plain": [
       "    Device              end_ts  Source Id            start_ts  \\\n",
       "0    touch 2017-12-20 17:38:00          4 2017-12-20 17:20:00   \n",
       "1  desktop 2018-02-19 17:21:00          2 2018-02-19 16:53:00   \n",
       "2    touch 2017-07-01 01:54:00          5 2017-07-01 01:54:00   \n",
       "3  desktop 2018-05-20 11:23:00          9 2018-05-20 10:59:00   \n",
       "4  desktop 2017-12-27 14:06:00          3 2017-12-27 14:06:00   \n",
       "\n",
       "                    Uid  session_year  session_month  session_week  \\\n",
       "0  16879256277535980062          2017             12            51   \n",
       "1    104060357244891740          2018              2             8   \n",
       "2   7459035603376831527          2017              7            26   \n",
       "3  16174680259334210214          2018              5            20   \n",
       "4   9969694820036681168          2017             12            52   \n",
       "\n",
       "  session_date  \n",
       "0   2017-12-20  \n",
       "1   2018-02-19  \n",
       "2   2017-07-01  \n",
       "3   2018-05-20  \n",
       "4   2017-12-27  "
      ]
     },
     "execution_count": 142,
     "metadata": {},
     "output_type": "execute_result"
    }
   ],
   "source": [
    "# Crear nuevas columnas datetime\n",
    "df_visits['session_year']  = df_visits['start_ts'].dt.isocalendar().year\n",
    "df_visits['session_month'] = df_visits['start_ts'].dt.month\n",
    "df_visits['session_week']  = df_visits['start_ts'].dt.isocalendar().week\n",
    "df_visits['session_date'] = df_visits['start_ts'].dt.date\n",
    "df_visits.head()"
   ]
  },
  {
   "cell_type": "code",
   "execution_count": 143,
   "metadata": {},
   "outputs": [
    {
     "name": "stdout",
     "output_type": "stream",
     "text": [
      "Usuarios por día = 907\n",
      "Usuarios por semana = 5716\n"
     ]
    },
    {
     "name": "stderr",
     "output_type": "stream",
     "text": [
      "/var/folders/yd/jr1h18jn6px95w7s343fr20h0000gp/T/ipykernel_1567/2141616100.py:5: FutureWarning: Calling int on a single element Series is deprecated and will raise a TypeError in the future. Use int(ser.iloc[0]) instead\n",
      "  print(f'Usuarios por día = {int(dau_total)}')\n",
      "/var/folders/yd/jr1h18jn6px95w7s343fr20h0000gp/T/ipykernel_1567/2141616100.py:6: FutureWarning: Calling int on a single element Series is deprecated and will raise a TypeError in the future. Use int(ser.iloc[0]) instead\n",
      "  print(f'Usuarios por semana = {int(wau_total)}')\n"
     ]
    }
   ],
   "source": [
    "# Usuarios por día y semana\n",
    "dau_total = df_visits.groupby('session_date').agg({'Uid': 'nunique'}).mean()\n",
    "wau_total = df_visits.groupby(['session_year', 'session_week']).agg({'Uid': 'nunique'}).mean()\n",
    "\n",
    "print(f'Usuarios por día = {int(dau_total)}')\n",
    "print(f'Usuarios por semana = {int(wau_total)}')"
   ]
  },
  {
   "cell_type": "code",
   "execution_count": 144,
   "metadata": {},
   "outputs": [
    {
     "name": "stdout",
     "output_type": "stream",
     "text": [
      "                            n_sessions  n_users  sessions_per_user\n",
      "session_year session_month                                        \n",
      "2017         6                   16505    13259           1.244815\n",
      "             7                   17828    14183           1.256998\n",
      "             8                   14355    11631           1.234202\n",
      "             9                   23907    18975           1.259921\n",
      "             10                  37903    29692           1.276539\n",
      "             11                  43969    32797           1.340641\n",
      "             12                  41983    31557           1.330386\n",
      "2018         1                   36939    28716           1.286356\n",
      "             2                   37182    28749           1.293332\n",
      "             3                   35679    27473           1.298693\n",
      "             4                   26515    21008           1.262138\n",
      "             5                   26635    20701           1.286653\n"
     ]
    }
   ],
   "source": [
    "# Sesiones de usuario\n",
    "df_visits['end_ts'] = pd.to_datetime(df_visits['end_ts'])\n",
    "df_visits['session_year'] = df_visits['start_ts'].dt.year\n",
    "df_visits['session_month'] = df_visits['start_ts'].dt.month\n",
    "sessions_per_user = df_visits.groupby(['session_year', 'session_month']).agg(\n",
    "    {'Uid': ['count', 'nunique']}\n",
    ")\n",
    "sessions_per_user.columns = ['n_sessions', 'n_users']\n",
    "sessions_per_user['sessions_per_user'] = (\n",
    "    sessions_per_user['n_sessions'] / sessions_per_user['n_users']\n",
    ")\n",
    "print(sessions_per_user)"
   ]
  },
  {
   "cell_type": "code",
   "execution_count": 145,
   "metadata": {},
   "outputs": [
    {
     "name": "stdout",
     "output_type": "stream",
     "text": [
      "La duración media por sesión es:\n",
      "643.506488592098\n"
     ]
    }
   ],
   "source": [
    "# Duración media de la sesión o ASL\n",
    "df_visits['session_duration_sec'] = (df_visits['end_ts'] - df_visits['start_ts']).dt.seconds\n",
    "print('La duración media por sesión es:')\n",
    "print(df_visits['session_duration_sec'].mean())"
   ]
  },
  {
   "cell_type": "code",
   "execution_count": 146,
   "metadata": {},
   "outputs": [
    {
     "data": {
      "image/png": "[encoded data removed]",
      "text/plain": [
       "<Figure size 640x480 with 1 Axes>"
      ]
     },
     "metadata": {},
     "output_type": "display_data"
    }
   ],
   "source": [
    "# Veamos la distribución\n",
    "df_visits['session_duration_sec'].hist(bins=50)\n",
    "plt.show()"
   ]
  },
  {
   "cell_type": "code",
   "execution_count": 147,
   "metadata": {},
   "outputs": [
    {
     "data": {
      "image/png": "[encoded data removed]",
      "text/plain": [
       "<Figure size 640x480 with 1 Axes>"
      ]
     },
     "metadata": {},
     "output_type": "display_data"
    }
   ],
   "source": [
    "import scipy.stats as stats\n",
    "\n",
    "stats.probplot(df_visits['session_duration_sec'], dist=\"norm\", plot=plt)\n",
    "plt.title(\"Gráfico QQ\")\n",
    "plt.show()"
   ]
  },
  {
   "cell_type": "markdown",
   "metadata": {},
   "source": [
    "## **Conclusión**\n",
    "\n",
    "- El histograma muestra una clara asimetría positiva (sesgo a la derecha), con la mayoría de las sesiones siendo cortas y unas pocas siendo muy largas. Esto es muy común en métricas de tiempo (como tiempo en página, duración de llamada, etc.).\n",
    "\n",
    "- El gráfico Q-Q lo confirma. Si la distribución fuera normal, los puntos azules seguirían de cerca la línea roja. Como se puede ver, se desvían significativamente en los extremos.\n",
    "\n",
    "### **Sugerencia:**\n",
    "\n",
    "- **La duración de las sesiones presenta una distribución con un fuerte sesgo positivo, lo que indica que la mayoría de los usuarios tienen sesiones cortas. La media se ve influenciada por un pequeño número de sesiones inusualmente largas.**\n",
    "\n",
    "---\n"
   ]
  },
  {
   "cell_type": "markdown",
   "metadata": {},
   "source": [
    "## Métricas de ventas"
   ]
  },
  {
   "cell_type": "code",
   "execution_count": 148,
   "metadata": {},
   "outputs": [
    {
     "data": {
      "text/plain": [
       "count                            50415\n",
       "mean     2017-12-20 05:14:24.846176768\n",
       "min                2017-06-01 00:10:00\n",
       "25%                2017-10-13 17:28:00\n",
       "50%                2017-12-21 14:12:00\n",
       "75%                2018-03-02 16:10:00\n",
       "max                2018-06-01 00:02:00\n",
       "Name: buy_ts, dtype: object"
      ]
     },
     "execution_count": 148,
     "metadata": {},
     "output_type": "execute_result"
    }
   ],
   "source": [
    "df_orders['buy_ts'].describe()"
   ]
  },
  {
   "cell_type": "code",
   "execution_count": 149,
   "metadata": {},
   "outputs": [
    {
     "data": {
      "image/png": "[encoded data removed]",
      "text/plain": [
       "<Figure size 640x480 with 1 Axes>"
      ]
     },
     "metadata": {},
     "output_type": "display_data"
    }
   ],
   "source": [
    "plt.xticks(rotation=45)  \n",
    "sns.histplot(df_orders['buy_ts'], bins=10, kde=True,)\n",
    "plt.show()"
   ]
  },
  {
   "cell_type": "code",
   "execution_count": 150,
   "metadata": {},
   "outputs": [
    {
     "data": {
      "text/plain": [
       "count                             2542\n",
       "mean     2017-11-29 09:04:57.403619072\n",
       "min                2017-06-01 00:00:00\n",
       "25%                2017-08-30 00:00:00\n",
       "50%                2017-11-29 00:00:00\n",
       "75%                2018-02-28 00:00:00\n",
       "max                2018-05-31 00:00:00\n",
       "Name: dt, dtype: object"
      ]
     },
     "execution_count": 150,
     "metadata": {},
     "output_type": "execute_result"
    }
   ],
   "source": [
    "df_costs['dt'].describe()"
   ]
  },
  {
   "cell_type": "markdown",
   "metadata": {},
   "source": [
    "- El rango de fechas de gastos coincide con el de fechas de pedidos."
   ]
  },
  {
   "cell_type": "code",
   "execution_count": 151,
   "metadata": {},
   "outputs": [
    {
     "data": {
      "image/png": "[encoded data removed]",
      "text/plain": [
       "<Figure size 640x480 with 1 Axes>"
      ]
     },
     "metadata": {},
     "output_type": "display_data"
    }
   ],
   "source": [
    "plt.xticks(rotation=45)  \n",
    "sns.histplot(df_costs['dt'], bins=10)\n",
    "plt.show()"
   ]
  },
  {
   "cell_type": "markdown",
   "metadata": {},
   "source": [
    "### LVT"
   ]
  },
  {
   "cell_type": "code",
   "execution_count": 152,
   "metadata": {},
   "outputs": [
    {
     "data": {
      "text/html": [
       "<div>\n",
       "<style scoped>\n",
       "    .dataframe tbody tr th:only-of-type {\n",
       "        vertical-align: middle;\n",
       "    }\n",
       "\n",
       "    .dataframe tbody tr th {\n",
       "        vertical-align: top;\n",
       "    }\n",
       "\n",
       "    .dataframe thead th {\n",
       "        text-align: right;\n",
       "    }\n",
       "</style>\n",
       "<table border=\"1\" class=\"dataframe\">\n",
       "  <thead>\n",
       "    <tr style=\"text-align: right;\">\n",
       "      <th></th>\n",
       "      <th>first_order_month</th>\n",
       "      <th>n_buyers</th>\n",
       "    </tr>\n",
       "  </thead>\n",
       "  <tbody>\n",
       "    <tr>\n",
       "      <th>0</th>\n",
       "      <td>2017-06-01</td>\n",
       "      <td>2023</td>\n",
       "    </tr>\n",
       "    <tr>\n",
       "      <th>1</th>\n",
       "      <td>2017-07-01</td>\n",
       "      <td>1923</td>\n",
       "    </tr>\n",
       "    <tr>\n",
       "      <th>2</th>\n",
       "      <td>2017-08-01</td>\n",
       "      <td>1370</td>\n",
       "    </tr>\n",
       "    <tr>\n",
       "      <th>3</th>\n",
       "      <td>2017-09-01</td>\n",
       "      <td>2581</td>\n",
       "    </tr>\n",
       "    <tr>\n",
       "      <th>4</th>\n",
       "      <td>2017-10-01</td>\n",
       "      <td>4340</td>\n",
       "    </tr>\n",
       "  </tbody>\n",
       "</table>\n",
       "</div>"
      ],
      "text/plain": [
       "  first_order_month  n_buyers\n",
       "0        2017-06-01      2023\n",
       "1        2017-07-01      1923\n",
       "2        2017-08-01      1370\n",
       "3        2017-09-01      2581\n",
       "4        2017-10-01      4340"
      ]
     },
     "execution_count": 152,
     "metadata": {},
     "output_type": "execute_result"
    }
   ],
   "source": [
    "# Truncar al primer día del mes (exactamente como hacía datetime64[M])\n",
    "df_orders['order_month'] = df_orders['buy_ts'].dt.to_period('M').dt.to_timestamp()\n",
    "df_costs['month'] = df_costs['dt'].dt.to_period('M').dt.to_timestamp()\n",
    "\n",
    "\n",
    "# Recuperar el mes de la primera compra de cada cliente\n",
    "first_orders = df_orders.groupby('Uid').agg({'order_month': 'min'}).reset_index()\n",
    "first_orders.columns = ['uid', 'first_order_month']\n",
    "first_orders.head()\n",
    "\n",
    "# Calcularemos el número de nuevos clientes (n_buyers) para cada mes\n",
    "cohort_sizes = first_orders.groupby('first_order_month').agg({'uid': 'nunique'}).reset_index()\n",
    "cohort_sizes.columns = ['first_order_month', 'n_buyers']\n",
    "cohort_sizes.head()\n"
   ]
  },
  {
   "cell_type": "markdown",
   "metadata": {},
   "source": [
    "- Creemos cohortes, Vamos a agregar los meses de la primera compra de los clientes a la tabla de pedidos:"
   ]
  },
  {
   "cell_type": "code",
   "execution_count": 153,
   "metadata": {},
   "outputs": [],
   "source": [
    "df_orders.rename(columns={\"Uid\": \"uid\"}, inplace=True)"
   ]
  },
  {
   "cell_type": "code",
   "execution_count": 154,
   "metadata": {},
   "outputs": [
    {
     "data": {
      "text/html": [
       "<div>\n",
       "<style scoped>\n",
       "    .dataframe tbody tr th:only-of-type {\n",
       "        vertical-align: middle;\n",
       "    }\n",
       "\n",
       "    .dataframe tbody tr th {\n",
       "        vertical-align: top;\n",
       "    }\n",
       "\n",
       "    .dataframe thead th {\n",
       "        text-align: right;\n",
       "    }\n",
       "</style>\n",
       "<table border=\"1\" class=\"dataframe\">\n",
       "  <thead>\n",
       "    <tr style=\"text-align: right;\">\n",
       "      <th></th>\n",
       "      <th>buy_ts</th>\n",
       "      <th>Revenue</th>\n",
       "      <th>uid</th>\n",
       "      <th>order_month</th>\n",
       "      <th>first_order_month</th>\n",
       "    </tr>\n",
       "  </thead>\n",
       "  <tbody>\n",
       "    <tr>\n",
       "      <th>0</th>\n",
       "      <td>2017-06-01 00:10:00</td>\n",
       "      <td>17.00</td>\n",
       "      <td>10329302124590727494</td>\n",
       "      <td>2017-06-01</td>\n",
       "      <td>2017-06-01</td>\n",
       "    </tr>\n",
       "    <tr>\n",
       "      <th>1</th>\n",
       "      <td>2017-06-01 00:25:00</td>\n",
       "      <td>0.55</td>\n",
       "      <td>11627257723692907447</td>\n",
       "      <td>2017-06-01</td>\n",
       "      <td>2017-06-01</td>\n",
       "    </tr>\n",
       "    <tr>\n",
       "      <th>2</th>\n",
       "      <td>2017-06-01 00:27:00</td>\n",
       "      <td>0.37</td>\n",
       "      <td>17903680561304213844</td>\n",
       "      <td>2017-06-01</td>\n",
       "      <td>2017-06-01</td>\n",
       "    </tr>\n",
       "    <tr>\n",
       "      <th>3</th>\n",
       "      <td>2017-06-01 00:29:00</td>\n",
       "      <td>0.55</td>\n",
       "      <td>16109239769442553005</td>\n",
       "      <td>2017-06-01</td>\n",
       "      <td>2017-06-01</td>\n",
       "    </tr>\n",
       "    <tr>\n",
       "      <th>4</th>\n",
       "      <td>2017-06-01 07:58:00</td>\n",
       "      <td>0.37</td>\n",
       "      <td>14200605875248379450</td>\n",
       "      <td>2017-06-01</td>\n",
       "      <td>2017-06-01</td>\n",
       "    </tr>\n",
       "  </tbody>\n",
       "</table>\n",
       "</div>"
      ],
      "text/plain": [
       "               buy_ts  Revenue                   uid order_month  \\\n",
       "0 2017-06-01 00:10:00    17.00  10329302124590727494  2017-06-01   \n",
       "1 2017-06-01 00:25:00     0.55  11627257723692907447  2017-06-01   \n",
       "2 2017-06-01 00:27:00     0.37  17903680561304213844  2017-06-01   \n",
       "3 2017-06-01 00:29:00     0.55  16109239769442553005  2017-06-01   \n",
       "4 2017-06-01 07:58:00     0.37  14200605875248379450  2017-06-01   \n",
       "\n",
       "  first_order_month  \n",
       "0        2017-06-01  \n",
       "1        2017-06-01  \n",
       "2        2017-06-01  \n",
       "3        2017-06-01  \n",
       "4        2017-06-01  "
      ]
     },
     "execution_count": 154,
     "metadata": {},
     "output_type": "execute_result"
    }
   ],
   "source": [
    "df_orders_ = pd.merge(df_orders,first_orders, on='uid')\n",
    "df_orders_.head()"
   ]
  },
  {
   "cell_type": "code",
   "execution_count": 155,
   "metadata": {},
   "outputs": [
    {
     "data": {
      "text/html": [
       "<div>\n",
       "<style scoped>\n",
       "    .dataframe tbody tr th:only-of-type {\n",
       "        vertical-align: middle;\n",
       "    }\n",
       "\n",
       "    .dataframe tbody tr th {\n",
       "        vertical-align: top;\n",
       "    }\n",
       "\n",
       "    .dataframe thead th {\n",
       "        text-align: right;\n",
       "    }\n",
       "</style>\n",
       "<table border=\"1\" class=\"dataframe\">\n",
       "  <thead>\n",
       "    <tr style=\"text-align: right;\">\n",
       "      <th></th>\n",
       "      <th>first_order_month</th>\n",
       "      <th>order_month</th>\n",
       "      <th>Revenue</th>\n",
       "    </tr>\n",
       "  </thead>\n",
       "  <tbody>\n",
       "    <tr>\n",
       "      <th>0</th>\n",
       "      <td>2017-06-01</td>\n",
       "      <td>2017-06-01</td>\n",
       "      <td>9557.49</td>\n",
       "    </tr>\n",
       "    <tr>\n",
       "      <th>1</th>\n",
       "      <td>2017-06-01</td>\n",
       "      <td>2017-07-01</td>\n",
       "      <td>981.82</td>\n",
       "    </tr>\n",
       "    <tr>\n",
       "      <th>2</th>\n",
       "      <td>2017-06-01</td>\n",
       "      <td>2017-08-01</td>\n",
       "      <td>885.34</td>\n",
       "    </tr>\n",
       "    <tr>\n",
       "      <th>3</th>\n",
       "      <td>2017-06-01</td>\n",
       "      <td>2017-09-01</td>\n",
       "      <td>1931.30</td>\n",
       "    </tr>\n",
       "    <tr>\n",
       "      <th>4</th>\n",
       "      <td>2017-06-01</td>\n",
       "      <td>2017-10-01</td>\n",
       "      <td>2068.58</td>\n",
       "    </tr>\n",
       "  </tbody>\n",
       "</table>\n",
       "</div>"
      ],
      "text/plain": [
       "  first_order_month order_month  Revenue\n",
       "0        2017-06-01  2017-06-01  9557.49\n",
       "1        2017-06-01  2017-07-01   981.82\n",
       "2        2017-06-01  2017-08-01   885.34\n",
       "3        2017-06-01  2017-09-01  1931.30\n",
       "4        2017-06-01  2017-10-01  2068.58"
      ]
     },
     "execution_count": 155,
     "metadata": {},
     "output_type": "execute_result"
    }
   ],
   "source": [
    "# Agrupar la tabla de pedidos por mes de la primera compra y mes de la compra y totalizar los ingresos\n",
    "cohorts = df_orders_.groupby(['first_order_month','order_month']).agg({'Revenue': 'sum'}).reset_index()\n",
    "cohorts.head()"
   ]
  },
  {
   "cell_type": "code",
   "execution_count": 156,
   "metadata": {},
   "outputs": [
    {
     "data": {
      "text/html": [
       "<div>\n",
       "<style scoped>\n",
       "    .dataframe tbody tr th:only-of-type {\n",
       "        vertical-align: middle;\n",
       "    }\n",
       "\n",
       "    .dataframe tbody tr th {\n",
       "        vertical-align: top;\n",
       "    }\n",
       "\n",
       "    .dataframe thead th {\n",
       "        text-align: right;\n",
       "    }\n",
       "</style>\n",
       "<table border=\"1\" class=\"dataframe\">\n",
       "  <thead>\n",
       "    <tr style=\"text-align: right;\">\n",
       "      <th></th>\n",
       "      <th>first_order_month</th>\n",
       "      <th>n_buyers</th>\n",
       "      <th>order_month</th>\n",
       "      <th>Revenue</th>\n",
       "    </tr>\n",
       "  </thead>\n",
       "  <tbody>\n",
       "    <tr>\n",
       "      <th>0</th>\n",
       "      <td>2017-06-01</td>\n",
       "      <td>2023</td>\n",
       "      <td>2017-06-01</td>\n",
       "      <td>9557.49</td>\n",
       "    </tr>\n",
       "    <tr>\n",
       "      <th>1</th>\n",
       "      <td>2017-06-01</td>\n",
       "      <td>2023</td>\n",
       "      <td>2017-07-01</td>\n",
       "      <td>981.82</td>\n",
       "    </tr>\n",
       "    <tr>\n",
       "      <th>2</th>\n",
       "      <td>2017-06-01</td>\n",
       "      <td>2023</td>\n",
       "      <td>2017-08-01</td>\n",
       "      <td>885.34</td>\n",
       "    </tr>\n",
       "    <tr>\n",
       "      <th>3</th>\n",
       "      <td>2017-06-01</td>\n",
       "      <td>2023</td>\n",
       "      <td>2017-09-01</td>\n",
       "      <td>1931.30</td>\n",
       "    </tr>\n",
       "    <tr>\n",
       "      <th>4</th>\n",
       "      <td>2017-06-01</td>\n",
       "      <td>2023</td>\n",
       "      <td>2017-10-01</td>\n",
       "      <td>2068.58</td>\n",
       "    </tr>\n",
       "  </tbody>\n",
       "</table>\n",
       "</div>"
      ],
      "text/plain": [
       "  first_order_month  n_buyers order_month  Revenue\n",
       "0        2017-06-01      2023  2017-06-01  9557.49\n",
       "1        2017-06-01      2023  2017-07-01   981.82\n",
       "2        2017-06-01      2023  2017-08-01   885.34\n",
       "3        2017-06-01      2023  2017-09-01  1931.30\n",
       "4        2017-06-01      2023  2017-10-01  2068.58"
      ]
     },
     "execution_count": 156,
     "metadata": {},
     "output_type": "execute_result"
    }
   ],
   "source": [
    "# Agregar datos sobre cuántos usuarios realizaron sus primeras compras en cada mes a la tabla cohorts\n",
    "report = pd.merge(cohort_sizes, cohorts, on='first_order_month')\n",
    "report.head()"
   ]
  },
  {
   "cell_type": "code",
   "execution_count": 157,
   "metadata": {},
   "outputs": [
    {
     "name": "stdout",
     "output_type": "stream",
     "text": [
      "LTV acumulado para la cohorte de junio 2017 = 5.94\n"
     ]
    }
   ],
   "source": [
    "# --- CÁLCULO DE MÉTRICAS Y EDAD (MÉTODO PRECISO) ---\n",
    "margin_rate = 0.5\n",
    "report['gp'] = report['Revenue'] * margin_rate\n",
    "\n",
    "# Usamos to_period('M') para obtener la diferencia en meses de forma precisa\n",
    "report['age'] = (report['order_month'].dt.to_period('M') - report['first_order_month'].dt.to_period('M')).apply(lambda x: x.n)\n",
    "\n",
    "# --- CÁLCULO DE LTV (SIN REDONDEO PREMATURO) ---\n",
    "report['ltv'] = report['gp'] / report['n_buyers']\n",
    "\n",
    "# Creamos la tabla pivotada SIN redondear\n",
    "output_ltv = report.pivot_table(\n",
    "    index='first_order_month', \n",
    "    columns='age', \n",
    "    values='ltv', \n",
    "    aggfunc='mean'\n",
    ")\n",
    "\n",
    "# Ahora, calculamos el LTV acumulado de la cohorte de junio 2017\n",
    "# Sumamos los valores SIN redondear para máxima precisión\n",
    "ltv_201706_acumulado = output_ltv.loc['2017-06-01'].sum()\n",
    "\n",
    "# Mostramos el resultado final\n",
    "print(f'LTV acumulado para la cohorte de junio 2017 = {ltv_201706_acumulado:.2f}')"
   ]
  },
  {
   "cell_type": "code",
   "execution_count": 158,
   "metadata": {},
   "outputs": [
    {
     "data": {
      "text/html": [
       "<div>\n",
       "<style scoped>\n",
       "    .dataframe tbody tr th:only-of-type {\n",
       "        vertical-align: middle;\n",
       "    }\n",
       "\n",
       "    .dataframe tbody tr th {\n",
       "        vertical-align: top;\n",
       "    }\n",
       "\n",
       "    .dataframe thead th {\n",
       "        text-align: right;\n",
       "    }\n",
       "</style>\n",
       "<table border=\"1\" class=\"dataframe\">\n",
       "  <thead>\n",
       "    <tr style=\"text-align: right;\">\n",
       "      <th>age</th>\n",
       "      <th>0</th>\n",
       "      <th>1</th>\n",
       "      <th>2</th>\n",
       "      <th>3</th>\n",
       "      <th>4</th>\n",
       "      <th>5</th>\n",
       "      <th>6</th>\n",
       "      <th>7</th>\n",
       "      <th>8</th>\n",
       "      <th>9</th>\n",
       "      <th>10</th>\n",
       "      <th>11</th>\n",
       "    </tr>\n",
       "    <tr>\n",
       "      <th>first_order_month</th>\n",
       "      <th></th>\n",
       "      <th></th>\n",
       "      <th></th>\n",
       "      <th></th>\n",
       "      <th></th>\n",
       "      <th></th>\n",
       "      <th></th>\n",
       "      <th></th>\n",
       "      <th></th>\n",
       "      <th></th>\n",
       "      <th></th>\n",
       "      <th></th>\n",
       "    </tr>\n",
       "  </thead>\n",
       "  <tbody>\n",
       "    <tr>\n",
       "      <th>2017-06-01</th>\n",
       "      <td>2.362207</td>\n",
       "      <td>0.242664</td>\n",
       "      <td>0.218819</td>\n",
       "      <td>0.477336</td>\n",
       "      <td>0.511265</td>\n",
       "      <td>0.367751</td>\n",
       "      <td>0.47522</td>\n",
       "      <td>0.290796</td>\n",
       "      <td>0.276607</td>\n",
       "      <td>0.302894</td>\n",
       "      <td>0.28563</td>\n",
       "      <td>0.128428</td>\n",
       "    </tr>\n",
       "    <tr>\n",
       "      <th>2017-07-01</th>\n",
       "      <td>3.005109</td>\n",
       "      <td>0.167605</td>\n",
       "      <td>0.311765</td>\n",
       "      <td>0.179488</td>\n",
       "      <td>0.088396</td>\n",
       "      <td>0.078024</td>\n",
       "      <td>0.060104</td>\n",
       "      <td>0.07091</td>\n",
       "      <td>0.080616</td>\n",
       "      <td>0.073573</td>\n",
       "      <td>0.077837</td>\n",
       "      <td></td>\n",
       "    </tr>\n",
       "    <tr>\n",
       "      <th>2017-08-01</th>\n",
       "      <td>2.638259</td>\n",
       "      <td>0.235996</td>\n",
       "      <td>0.229241</td>\n",
       "      <td>0.195639</td>\n",
       "      <td>0.247026</td>\n",
       "      <td>0.14177</td>\n",
       "      <td>0.105332</td>\n",
       "      <td>0.202504</td>\n",
       "      <td>0.146106</td>\n",
       "      <td>0.093989</td>\n",
       "      <td></td>\n",
       "      <td></td>\n",
       "    </tr>\n",
       "    <tr>\n",
       "      <th>2017-09-01</th>\n",
       "      <td>2.822265</td>\n",
       "      <td>0.558793</td>\n",
       "      <td>0.260465</td>\n",
       "      <td>1.987896</td>\n",
       "      <td>0.200279</td>\n",
       "      <td>0.323534</td>\n",
       "      <td>0.350804</td>\n",
       "      <td>0.121575</td>\n",
       "      <td>0.092003</td>\n",
       "      <td></td>\n",
       "      <td></td>\n",
       "      <td></td>\n",
       "    </tr>\n",
       "    <tr>\n",
       "      <th>2017-10-01</th>\n",
       "      <td>2.501866</td>\n",
       "      <td>0.267881</td>\n",
       "      <td>0.095697</td>\n",
       "      <td>0.078573</td>\n",
       "      <td>0.07578</td>\n",
       "      <td>0.060181</td>\n",
       "      <td>0.042408</td>\n",
       "      <td>0.057735</td>\n",
       "      <td></td>\n",
       "      <td></td>\n",
       "      <td></td>\n",
       "      <td></td>\n",
       "    </tr>\n",
       "    <tr>\n",
       "      <th>2017-11-01</th>\n",
       "      <td>2.577341</td>\n",
       "      <td>0.199617</td>\n",
       "      <td>0.099778</td>\n",
       "      <td>0.162476</td>\n",
       "      <td>0.074006</td>\n",
       "      <td>0.026939</td>\n",
       "      <td>0.057464</td>\n",
       "      <td></td>\n",
       "      <td></td>\n",
       "      <td></td>\n",
       "      <td></td>\n",
       "      <td></td>\n",
       "    </tr>\n",
       "    <tr>\n",
       "      <th>2017-12-01</th>\n",
       "      <td>2.369095</td>\n",
       "      <td>0.130187</td>\n",
       "      <td>0.462548</td>\n",
       "      <td>0.532637</td>\n",
       "      <td>0.156465</td>\n",
       "      <td>0.169023</td>\n",
       "      <td></td>\n",
       "      <td></td>\n",
       "      <td></td>\n",
       "      <td></td>\n",
       "      <td></td>\n",
       "      <td></td>\n",
       "    </tr>\n",
       "    <tr>\n",
       "      <th>2018-01-01</th>\n",
       "      <td>2.067818</td>\n",
       "      <td>0.147379</td>\n",
       "      <td>0.152141</td>\n",
       "      <td>0.071389</td>\n",
       "      <td>0.031349</td>\n",
       "      <td></td>\n",
       "      <td></td>\n",
       "      <td></td>\n",
       "      <td></td>\n",
       "      <td></td>\n",
       "      <td></td>\n",
       "      <td></td>\n",
       "    </tr>\n",
       "    <tr>\n",
       "      <th>2018-02-01</th>\n",
       "      <td>2.078494</td>\n",
       "      <td>0.139137</td>\n",
       "      <td>0.039258</td>\n",
       "      <td>0.037072</td>\n",
       "      <td></td>\n",
       "      <td></td>\n",
       "      <td></td>\n",
       "      <td></td>\n",
       "      <td></td>\n",
       "      <td></td>\n",
       "      <td></td>\n",
       "      <td></td>\n",
       "    </tr>\n",
       "    <tr>\n",
       "      <th>2018-03-01</th>\n",
       "      <td>2.419401</td>\n",
       "      <td>0.150446</td>\n",
       "      <td>0.15778</td>\n",
       "      <td></td>\n",
       "      <td></td>\n",
       "      <td></td>\n",
       "      <td></td>\n",
       "      <td></td>\n",
       "      <td></td>\n",
       "      <td></td>\n",
       "      <td></td>\n",
       "      <td></td>\n",
       "    </tr>\n",
       "    <tr>\n",
       "      <th>2018-04-01</th>\n",
       "      <td>2.328798</td>\n",
       "      <td>0.2658</td>\n",
       "      <td></td>\n",
       "      <td></td>\n",
       "      <td></td>\n",
       "      <td></td>\n",
       "      <td></td>\n",
       "      <td></td>\n",
       "      <td></td>\n",
       "      <td></td>\n",
       "      <td></td>\n",
       "      <td></td>\n",
       "    </tr>\n",
       "    <tr>\n",
       "      <th>2018-05-01</th>\n",
       "      <td>2.330281</td>\n",
       "      <td></td>\n",
       "      <td></td>\n",
       "      <td></td>\n",
       "      <td></td>\n",
       "      <td></td>\n",
       "      <td></td>\n",
       "      <td></td>\n",
       "      <td></td>\n",
       "      <td></td>\n",
       "      <td></td>\n",
       "      <td></td>\n",
       "    </tr>\n",
       "    <tr>\n",
       "      <th>2018-06-01</th>\n",
       "      <td>1.710000</td>\n",
       "      <td></td>\n",
       "      <td></td>\n",
       "      <td></td>\n",
       "      <td></td>\n",
       "      <td></td>\n",
       "      <td></td>\n",
       "      <td></td>\n",
       "      <td></td>\n",
       "      <td></td>\n",
       "      <td></td>\n",
       "      <td></td>\n",
       "    </tr>\n",
       "  </tbody>\n",
       "</table>\n",
       "</div>"
      ],
      "text/plain": [
       "age                      0         1         2         3         4         5   \\\n",
       "first_order_month                                                               \n",
       "2017-06-01         2.362207  0.242664  0.218819  0.477336  0.511265  0.367751   \n",
       "2017-07-01         3.005109  0.167605  0.311765  0.179488  0.088396  0.078024   \n",
       "2017-08-01         2.638259  0.235996  0.229241  0.195639  0.247026   0.14177   \n",
       "2017-09-01         2.822265  0.558793  0.260465  1.987896  0.200279  0.323534   \n",
       "2017-10-01         2.501866  0.267881  0.095697  0.078573   0.07578  0.060181   \n",
       "2017-11-01         2.577341  0.199617  0.099778  0.162476  0.074006  0.026939   \n",
       "2017-12-01         2.369095  0.130187  0.462548  0.532637  0.156465  0.169023   \n",
       "2018-01-01         2.067818  0.147379  0.152141  0.071389  0.031349             \n",
       "2018-02-01         2.078494  0.139137  0.039258  0.037072                       \n",
       "2018-03-01         2.419401  0.150446   0.15778                                 \n",
       "2018-04-01         2.328798    0.2658                                           \n",
       "2018-05-01         2.330281                                                     \n",
       "2018-06-01         1.710000                                                     \n",
       "\n",
       "age                      6         7         8         9         10        11  \n",
       "first_order_month                                                              \n",
       "2017-06-01          0.47522  0.290796  0.276607  0.302894   0.28563  0.128428  \n",
       "2017-07-01         0.060104   0.07091  0.080616  0.073573  0.077837            \n",
       "2017-08-01         0.105332  0.202504  0.146106  0.093989                      \n",
       "2017-09-01         0.350804  0.121575  0.092003                                \n",
       "2017-10-01         0.042408  0.057735                                          \n",
       "2017-11-01         0.057464                                                    \n",
       "2017-12-01                                                                     \n",
       "2018-01-01                                                                     \n",
       "2018-02-01                                                                     \n",
       "2018-03-01                                                                     \n",
       "2018-04-01                                                                     \n",
       "2018-05-01                                                                     \n",
       "2018-06-01                                                                     "
      ]
     },
     "execution_count": 158,
     "metadata": {},
     "output_type": "execute_result"
    }
   ],
   "source": [
    "output_ltv.fillna('')"
   ]
  },
  {
   "cell_type": "code",
   "execution_count": 159,
   "metadata": {},
   "outputs": [
    {
     "name": "stdout",
     "output_type": "stream",
     "text": [
      "El LTV es: 5.939616905585764\n"
     ]
    }
   ],
   "source": [
    "# Encontremos el LTV de la primera cohorte sumando el valor de cada mes\n",
    "ltv_201803 = output_ltv.loc['2017-06-01'].sum()\n",
    "print(f'El LTV es: {ltv_201803}')"
   ]
  },
  {
   "cell_type": "markdown",
   "metadata": {},
   "source": [
    "## Métricas de marketing"
   ]
  },
  {
   "cell_type": "code",
   "execution_count": null,
   "metadata": {},
   "outputs": [
    {
     "name": "stdout",
     "output_type": "stream",
     "text": [
      "CAC para la cohorte de junio 2017 = 8.91\n",
      "LTV acumulado para la cohorte de junio 2017 = 5.94\n"
     ]
    }
   ],
   "source": [
    "# obtener la cohorte necesaria \n",
    "cohort_201706 = report[report['first_order_month'] == '2017-06-01']\n",
    "\n",
    "# calcular los costos para el mes de la cohorte \n",
    "costs_201706 = df_costs[df_costs['month'] == '2017-06-01']['costs'].sum()\n",
    "\n",
    "# n_buyers para la cohorte de junio de 2017 \n",
    "n_buyers_201706 = cohort_201706['n_buyers'].iloc[0]\n",
    "\n",
    "# CAC de la cohorte de junio de 2017\n",
    "cac_201706 = costs_201706 / n_buyers_201706\n",
    "\n",
    "# LTV acumulado de la cohorte de junio de 2017 \n",
    "ltv_201706 = output_ltv.loc['2017-06-01'].sum()\n",
    "\n",
    "print(f'CAC para la cohorte de junio 2017 = {cac_201706:.2f}')\n",
    "\n",
    "print(f'LTV acumulado para la cohorte de junio 2017 = {ltv_201706:.2f}')"
   ]
  },
  {
   "cell_type": "markdown",
   "metadata": {},
   "source": [
    "**Conclusión:**\n",
    "- La inversión en la adquisición de clientes para la cohorte de junio de 2017 no fue rentable. El costo para adquirir cada cliente (CAC) fue de $8.91, mientras que el valor de vida total que cada cliente generó en ganancias (LTV) fue de solo $3.94. Esto significa que la empresa perdió $4.97 por cada cliente nuevo adquirido en ese mes."
   ]
  },
  {
   "cell_type": "code",
   "execution_count": 161,
   "metadata": {},
   "outputs": [
    {
     "data": {
      "text/html": [
       "<div>\n",
       "<style scoped>\n",
       "    .dataframe tbody tr th:only-of-type {\n",
       "        vertical-align: middle;\n",
       "    }\n",
       "\n",
       "    .dataframe tbody tr th {\n",
       "        vertical-align: top;\n",
       "    }\n",
       "\n",
       "    .dataframe thead th {\n",
       "        text-align: right;\n",
       "    }\n",
       "</style>\n",
       "<table border=\"1\" class=\"dataframe\">\n",
       "  <thead>\n",
       "    <tr style=\"text-align: right;\">\n",
       "      <th></th>\n",
       "      <th>source_id</th>\n",
       "      <th>costs</th>\n",
       "    </tr>\n",
       "    <tr>\n",
       "      <th>month</th>\n",
       "      <th></th>\n",
       "      <th></th>\n",
       "    </tr>\n",
       "  </thead>\n",
       "  <tbody>\n",
       "    <tr>\n",
       "      <th>2017-06-01</th>\n",
       "      <td>1020</td>\n",
       "      <td>18015.00</td>\n",
       "    </tr>\n",
       "    <tr>\n",
       "      <th>2017-07-01</th>\n",
       "      <td>1054</td>\n",
       "      <td>18240.59</td>\n",
       "    </tr>\n",
       "    <tr>\n",
       "      <th>2017-08-01</th>\n",
       "      <td>1054</td>\n",
       "      <td>14790.54</td>\n",
       "    </tr>\n",
       "    <tr>\n",
       "      <th>2017-09-01</th>\n",
       "      <td>1020</td>\n",
       "      <td>24368.91</td>\n",
       "    </tr>\n",
       "    <tr>\n",
       "      <th>2017-10-01</th>\n",
       "      <td>1054</td>\n",
       "      <td>36322.88</td>\n",
       "    </tr>\n",
       "  </tbody>\n",
       "</table>\n",
       "</div>"
      ],
      "text/plain": [
       "            source_id     costs\n",
       "month                          \n",
       "2017-06-01       1020  18015.00\n",
       "2017-07-01       1054  18240.59\n",
       "2017-08-01       1054  14790.54\n",
       "2017-09-01       1020  24368.91\n",
       "2017-10-01       1054  36322.88"
      ]
     },
     "execution_count": 161,
     "metadata": {},
     "output_type": "execute_result"
    }
   ],
   "source": [
    "# calcular los costos por mes\n",
    "monthly_costs = df_costs.groupby('month').sum(numeric_only=True)\n",
    "monthly_costs.head()"
   ]
  },
  {
   "cell_type": "code",
   "execution_count": 162,
   "metadata": {},
   "outputs": [
    {
     "data": {
      "text/html": [
       "<div>\n",
       "<style scoped>\n",
       "    .dataframe tbody tr th:only-of-type {\n",
       "        vertical-align: middle;\n",
       "    }\n",
       "\n",
       "    .dataframe tbody tr th {\n",
       "        vertical-align: top;\n",
       "    }\n",
       "\n",
       "    .dataframe thead th {\n",
       "        text-align: right;\n",
       "    }\n",
       "</style>\n",
       "<table border=\"1\" class=\"dataframe\">\n",
       "  <thead>\n",
       "    <tr style=\"text-align: right;\">\n",
       "      <th></th>\n",
       "      <th>first_order_month</th>\n",
       "      <th>n_buyers</th>\n",
       "      <th>order_month</th>\n",
       "      <th>Revenue</th>\n",
       "      <th>gp</th>\n",
       "      <th>age</th>\n",
       "      <th>ltv</th>\n",
       "      <th>source_id</th>\n",
       "      <th>costs</th>\n",
       "      <th>cac</th>\n",
       "    </tr>\n",
       "  </thead>\n",
       "  <tbody>\n",
       "    <tr>\n",
       "      <th>0</th>\n",
       "      <td>2017-06-01</td>\n",
       "      <td>2023</td>\n",
       "      <td>2017-06-01</td>\n",
       "      <td>9557.49</td>\n",
       "      <td>4778.745</td>\n",
       "      <td>0</td>\n",
       "      <td>2.362207</td>\n",
       "      <td>1020</td>\n",
       "      <td>18015.0</td>\n",
       "      <td>8.905091</td>\n",
       "    </tr>\n",
       "    <tr>\n",
       "      <th>1</th>\n",
       "      <td>2017-06-01</td>\n",
       "      <td>2023</td>\n",
       "      <td>2017-07-01</td>\n",
       "      <td>981.82</td>\n",
       "      <td>490.910</td>\n",
       "      <td>1</td>\n",
       "      <td>0.242664</td>\n",
       "      <td>1020</td>\n",
       "      <td>18015.0</td>\n",
       "      <td>8.905091</td>\n",
       "    </tr>\n",
       "    <tr>\n",
       "      <th>2</th>\n",
       "      <td>2017-06-01</td>\n",
       "      <td>2023</td>\n",
       "      <td>2017-08-01</td>\n",
       "      <td>885.34</td>\n",
       "      <td>442.670</td>\n",
       "      <td>2</td>\n",
       "      <td>0.218819</td>\n",
       "      <td>1020</td>\n",
       "      <td>18015.0</td>\n",
       "      <td>8.905091</td>\n",
       "    </tr>\n",
       "    <tr>\n",
       "      <th>3</th>\n",
       "      <td>2017-06-01</td>\n",
       "      <td>2023</td>\n",
       "      <td>2017-09-01</td>\n",
       "      <td>1931.30</td>\n",
       "      <td>965.650</td>\n",
       "      <td>3</td>\n",
       "      <td>0.477336</td>\n",
       "      <td>1020</td>\n",
       "      <td>18015.0</td>\n",
       "      <td>8.905091</td>\n",
       "    </tr>\n",
       "    <tr>\n",
       "      <th>4</th>\n",
       "      <td>2017-06-01</td>\n",
       "      <td>2023</td>\n",
       "      <td>2017-10-01</td>\n",
       "      <td>2068.58</td>\n",
       "      <td>1034.290</td>\n",
       "      <td>4</td>\n",
       "      <td>0.511265</td>\n",
       "      <td>1020</td>\n",
       "      <td>18015.0</td>\n",
       "      <td>8.905091</td>\n",
       "    </tr>\n",
       "  </tbody>\n",
       "</table>\n",
       "</div>"
      ],
      "text/plain": [
       "  first_order_month  n_buyers order_month  Revenue        gp  age       ltv  \\\n",
       "0        2017-06-01      2023  2017-06-01  9557.49  4778.745    0  2.362207   \n",
       "1        2017-06-01      2023  2017-07-01   981.82   490.910    1  0.242664   \n",
       "2        2017-06-01      2023  2017-08-01   885.34   442.670    2  0.218819   \n",
       "3        2017-06-01      2023  2017-09-01  1931.30   965.650    3  0.477336   \n",
       "4        2017-06-01      2023  2017-10-01  2068.58  1034.290    4  0.511265   \n",
       "\n",
       "   source_id    costs       cac  \n",
       "0       1020  18015.0  8.905091  \n",
       "1       1020  18015.0  8.905091  \n",
       "2       1020  18015.0  8.905091  \n",
       "3       1020  18015.0  8.905091  \n",
       "4       1020  18015.0  8.905091  "
      ]
     },
     "execution_count": 162,
     "metadata": {},
     "output_type": "execute_result"
    }
   ],
   "source": [
    "# Agreguemos los datos sobre los costos al informe y calculemos el CAC\n",
    "report_ = pd.merge(report, monthly_costs, left_on='first_order_month', right_on='month')\n",
    "report_['cac'] = report_['costs'] / report_['n_buyers']\n",
    "report_.head()"
   ]
  },
  {
   "cell_type": "markdown",
   "metadata": {},
   "source": [
    "### ROMI"
   ]
  },
  {
   "cell_type": "code",
   "execution_count": 163,
   "metadata": {},
   "outputs": [
    {
     "data": {
      "text/html": [
       "<div>\n",
       "<style scoped>\n",
       "    .dataframe tbody tr th:only-of-type {\n",
       "        vertical-align: middle;\n",
       "    }\n",
       "\n",
       "    .dataframe tbody tr th {\n",
       "        vertical-align: top;\n",
       "    }\n",
       "\n",
       "    .dataframe thead th {\n",
       "        text-align: right;\n",
       "    }\n",
       "</style>\n",
       "<table border=\"1\" class=\"dataframe\">\n",
       "  <thead>\n",
       "    <tr style=\"text-align: right;\">\n",
       "      <th>age</th>\n",
       "      <th>0</th>\n",
       "      <th>1</th>\n",
       "      <th>2</th>\n",
       "      <th>3</th>\n",
       "      <th>4</th>\n",
       "      <th>5</th>\n",
       "      <th>6</th>\n",
       "      <th>7</th>\n",
       "      <th>8</th>\n",
       "      <th>9</th>\n",
       "      <th>10</th>\n",
       "      <th>11</th>\n",
       "    </tr>\n",
       "    <tr>\n",
       "      <th>first_order_month</th>\n",
       "      <th></th>\n",
       "      <th></th>\n",
       "      <th></th>\n",
       "      <th></th>\n",
       "      <th></th>\n",
       "      <th></th>\n",
       "      <th></th>\n",
       "      <th></th>\n",
       "      <th></th>\n",
       "      <th></th>\n",
       "      <th></th>\n",
       "      <th></th>\n",
       "    </tr>\n",
       "  </thead>\n",
       "  <tbody>\n",
       "    <tr>\n",
       "      <th>2017-06-01</th>\n",
       "      <td>0.27</td>\n",
       "      <td>0.29</td>\n",
       "      <td>0.32</td>\n",
       "      <td>0.37</td>\n",
       "      <td>0.43</td>\n",
       "      <td>0.47</td>\n",
       "      <td>0.52</td>\n",
       "      <td>0.56</td>\n",
       "      <td>0.59</td>\n",
       "      <td>0.62</td>\n",
       "      <td>0.65</td>\n",
       "      <td>0.67</td>\n",
       "    </tr>\n",
       "    <tr>\n",
       "      <th>2017-07-01</th>\n",
       "      <td>0.32</td>\n",
       "      <td>0.33</td>\n",
       "      <td>0.37</td>\n",
       "      <td>0.39</td>\n",
       "      <td>0.40</td>\n",
       "      <td>0.40</td>\n",
       "      <td>0.41</td>\n",
       "      <td>0.42</td>\n",
       "      <td>0.43</td>\n",
       "      <td>0.43</td>\n",
       "      <td>0.44</td>\n",
       "      <td>NaN</td>\n",
       "    </tr>\n",
       "    <tr>\n",
       "      <th>2017-08-01</th>\n",
       "      <td>0.24</td>\n",
       "      <td>0.27</td>\n",
       "      <td>0.29</td>\n",
       "      <td>0.31</td>\n",
       "      <td>0.33</td>\n",
       "      <td>0.34</td>\n",
       "      <td>0.35</td>\n",
       "      <td>0.37</td>\n",
       "      <td>0.38</td>\n",
       "      <td>0.39</td>\n",
       "      <td>NaN</td>\n",
       "      <td>NaN</td>\n",
       "    </tr>\n",
       "    <tr>\n",
       "      <th>2017-09-01</th>\n",
       "      <td>0.30</td>\n",
       "      <td>0.36</td>\n",
       "      <td>0.39</td>\n",
       "      <td>0.60</td>\n",
       "      <td>0.62</td>\n",
       "      <td>0.65</td>\n",
       "      <td>0.69</td>\n",
       "      <td>0.70</td>\n",
       "      <td>0.71</td>\n",
       "      <td>NaN</td>\n",
       "      <td>NaN</td>\n",
       "      <td>NaN</td>\n",
       "    </tr>\n",
       "    <tr>\n",
       "      <th>2017-10-01</th>\n",
       "      <td>0.30</td>\n",
       "      <td>0.33</td>\n",
       "      <td>0.34</td>\n",
       "      <td>0.35</td>\n",
       "      <td>0.36</td>\n",
       "      <td>0.37</td>\n",
       "      <td>0.37</td>\n",
       "      <td>0.38</td>\n",
       "      <td>NaN</td>\n",
       "      <td>NaN</td>\n",
       "      <td>NaN</td>\n",
       "      <td>NaN</td>\n",
       "    </tr>\n",
       "    <tr>\n",
       "      <th>2017-11-01</th>\n",
       "      <td>0.28</td>\n",
       "      <td>0.30</td>\n",
       "      <td>0.31</td>\n",
       "      <td>0.33</td>\n",
       "      <td>0.34</td>\n",
       "      <td>0.34</td>\n",
       "      <td>0.34</td>\n",
       "      <td>NaN</td>\n",
       "      <td>NaN</td>\n",
       "      <td>NaN</td>\n",
       "      <td>NaN</td>\n",
       "      <td>NaN</td>\n",
       "    </tr>\n",
       "    <tr>\n",
       "      <th>2017-12-01</th>\n",
       "      <td>0.27</td>\n",
       "      <td>0.29</td>\n",
       "      <td>0.34</td>\n",
       "      <td>0.40</td>\n",
       "      <td>0.42</td>\n",
       "      <td>0.44</td>\n",
       "      <td>NaN</td>\n",
       "      <td>NaN</td>\n",
       "      <td>NaN</td>\n",
       "      <td>NaN</td>\n",
       "      <td>NaN</td>\n",
       "      <td>NaN</td>\n",
       "    </tr>\n",
       "    <tr>\n",
       "      <th>2018-01-01</th>\n",
       "      <td>0.21</td>\n",
       "      <td>0.22</td>\n",
       "      <td>0.24</td>\n",
       "      <td>0.25</td>\n",
       "      <td>0.25</td>\n",
       "      <td>NaN</td>\n",
       "      <td>NaN</td>\n",
       "      <td>NaN</td>\n",
       "      <td>NaN</td>\n",
       "      <td>NaN</td>\n",
       "      <td>NaN</td>\n",
       "      <td>NaN</td>\n",
       "    </tr>\n",
       "    <tr>\n",
       "      <th>2018-02-01</th>\n",
       "      <td>0.23</td>\n",
       "      <td>0.25</td>\n",
       "      <td>0.25</td>\n",
       "      <td>0.26</td>\n",
       "      <td>NaN</td>\n",
       "      <td>NaN</td>\n",
       "      <td>NaN</td>\n",
       "      <td>NaN</td>\n",
       "      <td>NaN</td>\n",
       "      <td>NaN</td>\n",
       "      <td>NaN</td>\n",
       "      <td>NaN</td>\n",
       "    </tr>\n",
       "    <tr>\n",
       "      <th>2018-03-01</th>\n",
       "      <td>0.28</td>\n",
       "      <td>0.30</td>\n",
       "      <td>0.32</td>\n",
       "      <td>NaN</td>\n",
       "      <td>NaN</td>\n",
       "      <td>NaN</td>\n",
       "      <td>NaN</td>\n",
       "      <td>NaN</td>\n",
       "      <td>NaN</td>\n",
       "      <td>NaN</td>\n",
       "      <td>NaN</td>\n",
       "      <td>NaN</td>\n",
       "    </tr>\n",
       "    <tr>\n",
       "      <th>2018-04-01</th>\n",
       "      <td>0.24</td>\n",
       "      <td>0.26</td>\n",
       "      <td>NaN</td>\n",
       "      <td>NaN</td>\n",
       "      <td>NaN</td>\n",
       "      <td>NaN</td>\n",
       "      <td>NaN</td>\n",
       "      <td>NaN</td>\n",
       "      <td>NaN</td>\n",
       "      <td>NaN</td>\n",
       "      <td>NaN</td>\n",
       "      <td>NaN</td>\n",
       "    </tr>\n",
       "    <tr>\n",
       "      <th>2018-05-01</th>\n",
       "      <td>0.31</td>\n",
       "      <td>NaN</td>\n",
       "      <td>NaN</td>\n",
       "      <td>NaN</td>\n",
       "      <td>NaN</td>\n",
       "      <td>NaN</td>\n",
       "      <td>NaN</td>\n",
       "      <td>NaN</td>\n",
       "      <td>NaN</td>\n",
       "      <td>NaN</td>\n",
       "      <td>NaN</td>\n",
       "      <td>NaN</td>\n",
       "    </tr>\n",
       "  </tbody>\n",
       "</table>\n",
       "</div>"
      ],
      "text/plain": [
       "age                  0     1     2     3     4     5     6     7     8     9   \\\n",
       "first_order_month                                                               \n",
       "2017-06-01         0.27  0.29  0.32  0.37  0.43  0.47  0.52  0.56  0.59  0.62   \n",
       "2017-07-01         0.32  0.33  0.37  0.39  0.40  0.40  0.41  0.42  0.43  0.43   \n",
       "2017-08-01         0.24  0.27  0.29  0.31  0.33  0.34  0.35  0.37  0.38  0.39   \n",
       "2017-09-01         0.30  0.36  0.39  0.60  0.62  0.65  0.69  0.70  0.71   NaN   \n",
       "2017-10-01         0.30  0.33  0.34  0.35  0.36  0.37  0.37  0.38   NaN   NaN   \n",
       "2017-11-01         0.28  0.30  0.31  0.33  0.34  0.34  0.34   NaN   NaN   NaN   \n",
       "2017-12-01         0.27  0.29  0.34  0.40  0.42  0.44   NaN   NaN   NaN   NaN   \n",
       "2018-01-01         0.21  0.22  0.24  0.25  0.25   NaN   NaN   NaN   NaN   NaN   \n",
       "2018-02-01         0.23  0.25  0.25  0.26   NaN   NaN   NaN   NaN   NaN   NaN   \n",
       "2018-03-01         0.28  0.30  0.32   NaN   NaN   NaN   NaN   NaN   NaN   NaN   \n",
       "2018-04-01         0.24  0.26   NaN   NaN   NaN   NaN   NaN   NaN   NaN   NaN   \n",
       "2018-05-01         0.31   NaN   NaN   NaN   NaN   NaN   NaN   NaN   NaN   NaN   \n",
       "\n",
       "age                  10    11  \n",
       "first_order_month              \n",
       "2017-06-01         0.65  0.67  \n",
       "2017-07-01         0.44   NaN  \n",
       "2017-08-01          NaN   NaN  \n",
       "2017-09-01          NaN   NaN  \n",
       "2017-10-01          NaN   NaN  \n",
       "2017-11-01          NaN   NaN  \n",
       "2017-12-01          NaN   NaN  \n",
       "2018-01-01          NaN   NaN  \n",
       "2018-02-01          NaN   NaN  \n",
       "2018-03-01          NaN   NaN  \n",
       "2018-04-01          NaN   NaN  \n",
       "2018-05-01          NaN   NaN  "
      ]
     },
     "execution_count": 163,
     "metadata": {},
     "output_type": "execute_result"
    }
   ],
   "source": [
    "report_['romi'] = report_['ltv'] / report_['cac']\n",
    "output = report_.pivot_table(\n",
    "    index='first_order_month', \n",
    "    columns='age', \n",
    "    values='romi', \n",
    "    aggfunc='mean')\n",
    "\n",
    "output.cumsum(axis=1).round(2)"
   ]
  },
  {
   "cell_type": "markdown",
   "metadata": {},
   "source": [
    "### Visualización ROMI"
   ]
  },
  {
   "cell_type": "code",
   "execution_count": 164,
   "metadata": {},
   "outputs": [
    {
     "data": {
      "image/png": "[encoded data removed]",
      "text/plain": [
       "<Figure size 1300x900 with 2 Axes>"
      ]
     },
     "metadata": {},
     "output_type": "display_data"
    }
   ],
   "source": [
    "report_['romi'] = report_['ltv'] / report_['cac']\n",
    "output = report_.pivot_table(\n",
    "    index='first_order_month', \n",
    "    columns='age', \n",
    "    values='romi', \n",
    "    aggfunc='mean')\n",
    "\n",
    "output.cumsum(axis=1).round(2)\n",
    "output.index = output.index.strftime('%Y-%m-%d')\n",
    "\n",
    "plt.figure(figsize=(13, 9))\n",
    "plt.title('ROMI')\n",
    "sns.heatmap(\n",
    "    output,\n",
    "    annot=True,\n",
    "    fmt='.1f',\n",
    "    linewidths=1,\n",
    "    linecolor='grey',\n",
    ")\n",
    "plt.show()"
   ]
  },
  {
   "cell_type": "markdown",
   "metadata": {},
   "source": [
    "# Visualización de datos - Gráficos"
   ]
  },
  {
   "cell_type": "code",
   "execution_count": 165,
   "metadata": {},
   "outputs": [
    {
     "data": {
      "image/png": "[encoded data removed]",
      "text/plain": [
       "<Figure size 1300x900 with 2 Axes>"
      ]
     },
     "metadata": {},
     "output_type": "display_data"
    }
   ],
   "source": [
    "# Creación de tablas dinamicas - Mapa de calor CAC\n",
    "cac_x_cohort = report_.pivot_table(\n",
    "    index=\"first_order_month\", \n",
    "    columns=\"age\", \n",
    "    values=\"cac\", \n",
    "    aggfunc=\"mean\"\n",
    ")\n",
    "\n",
    "cac_x_cohort.index = cac_x_cohort.index.strftime('%Y-%m-%d')\n",
    "\n",
    "plt.figure(figsize=(13, 9))\n",
    "plt.title('CAC por cohort')\n",
    "sns.heatmap(\n",
    "    cac_x_cohort,\n",
    "    annot=True,\n",
    "    fmt='.1f',\n",
    "    linewidths=1,\n",
    "    linecolor='grey',\n",
    ")\n",
    "plt.show()"
   ]
  },
  {
   "cell_type": "markdown",
   "metadata": {},
   "source": [
    "### Conclusión\n",
    "- Lo que nos dice el informe es que ninguna cohorte tuvo un buen rendimiento en ningun mes, fracaso total. Sin embargo se puede ver que a pesar de no ser rentable, cada cohorte mejora mes a mes aumentando sus cifras.\n",
    "\n",
    "### Recomendación\n",
    "- Buscar otra estrategia.\n",
    "- Reducir el CAC aunque esto puede repercutir negativamente a la hora de llegar a otros clientes.\n",
    "- Ya que vemos que los numeros aumentan mes a mes, no todo es malo, podriamos sacar algo de ahi para implementar una nueva estrategia."
   ]
  },
  {
   "cell_type": "markdown",
   "id": "77752dcd",
   "metadata": {},
   "source": [
    "\n",
    "## **Conclusiones y Recomendaciones**\n",
    "\n",
    "Tras analizar los datos de visitas, órdenes y costos del marketing para Showz, se pueden extraer las siguientes conclusiones:\n",
    "\n",
    "- **Rendimiento general**: Se observan variaciones significativas en el rendimiento entre diferentes días y semanas, lo que indica que el comportamiento del usuario cambia dependiendo de la temporada o campañas específicas.\n",
    "- **Gasto publicitario**: Algunas campañas o días presentan un costo elevado sin un retorno proporcional en órdenes, lo que sugiere una posible ineficiencia.\n",
    "- **Tendencias de conversión**: Existen días con una mejor tasa de conversión, lo cual puede aprovecharse optimizando el calendario de campañas.\n",
    "\n",
    "### **Recomendaciones para el equipo de marketing:**\n",
    "\n",
    "1. **Revisar los días de bajo rendimiento**: Identificar qué factores externos pueden estar afectando la conversión esos días (tipo de evento, día de la semana, etc.).\n",
    "2. **Optimizar el presupuesto**: Redistribuir la inversión hacia los días y canales que generan una mejor relación costo/beneficio.\n",
    "3. **Realizar pruebas A/B**: Evaluar cambios en los anuncios o en la segmentación del público para aumentar la efectividad de las campañas.\n",
    "4. **Monitoreo continuo**: Establecer un sistema de monitoreo semanal para reaccionar rápidamente ante campañas poco efectivas.\n",
    "\n",
    "**Este análisis ofrece un punto de partida para una estrategia de marketing basada en datos, lo cual permite tomar decisiones más acertadas y eficientes.**\n",
    "\n",
    "---\n"
   ]
  }
 ],
 "metadata": {
  "ExecuteTimeLog": [
   {
    "duration": 323,
    "start_time": "2025-02-22T16:04:53.026Z"
   },
   {
    "duration": 418,
    "start_time": "2025-02-22T16:06:38.298Z"
   },
   {
    "duration": 6,
    "start_time": "2025-02-22T16:08:34.602Z"
   },
   {
    "duration": 5,
    "start_time": "2025-02-22T16:08:38.333Z"
   },
   {
    "duration": 4,
    "start_time": "2025-02-22T16:08:41.047Z"
   },
   {
    "duration": 52,
    "start_time": "2025-02-22T16:15:07.356Z"
   },
   {
    "duration": 47,
    "start_time": "2025-02-22T16:19:06.966Z"
   },
   {
    "duration": 128,
    "start_time": "2025-02-22T16:33:41.235Z"
   },
   {
    "duration": 443,
    "start_time": "2025-02-22T16:43:02.931Z"
   },
   {
    "duration": 95,
    "start_time": "2025-02-22T16:57:09.553Z"
   },
   {
    "duration": 8,
    "start_time": "2025-02-22T17:13:37.690Z"
   },
   {
    "duration": 165,
    "start_time": "2025-02-22T23:07:00.199Z"
   },
   {
    "duration": 19,
    "start_time": "2025-02-22T23:18:55.096Z"
   },
   {
    "duration": 284,
    "start_time": "2025-02-22T23:19:06.555Z"
   },
   {
    "duration": 425,
    "start_time": "2025-02-22T23:19:06.841Z"
   },
   {
    "duration": 6,
    "start_time": "2025-02-22T23:19:07.267Z"
   },
   {
    "duration": 4,
    "start_time": "2025-02-22T23:19:07.276Z"
   },
   {
    "duration": 5,
    "start_time": "2025-02-22T23:19:07.282Z"
   },
   {
    "duration": 48,
    "start_time": "2025-02-22T23:19:07.288Z"
   },
   {
    "duration": 140,
    "start_time": "2025-02-22T23:19:07.338Z"
   },
   {
    "duration": 442,
    "start_time": "2025-02-22T23:19:07.486Z"
   },
   {
    "duration": 98,
    "start_time": "2025-02-22T23:19:07.930Z"
   },
   {
    "duration": 7,
    "start_time": "2025-02-22T23:19:08.030Z"
   },
   {
    "duration": 367,
    "start_time": "2025-02-22T23:19:08.039Z"
   },
   {
    "duration": 2378,
    "start_time": "2025-02-22T23:20:56.038Z"
   },
   {
    "duration": 355,
    "start_time": "2025-02-22T23:20:58.418Z"
   },
   {
    "duration": 6,
    "start_time": "2025-02-22T23:20:58.775Z"
   },
   {
    "duration": 5,
    "start_time": "2025-02-22T23:20:58.787Z"
   },
   {
    "duration": 5,
    "start_time": "2025-02-22T23:20:58.794Z"
   },
   {
    "duration": 47,
    "start_time": "2025-02-22T23:20:58.801Z"
   },
   {
    "duration": 144,
    "start_time": "2025-02-22T23:20:58.851Z"
   },
   {
    "duration": 416,
    "start_time": "2025-02-22T23:20:58.997Z"
   },
   {
    "duration": 97,
    "start_time": "2025-02-22T23:20:59.415Z"
   },
   {
    "duration": 7,
    "start_time": "2025-02-22T23:20:59.514Z"
   },
   {
    "duration": 1586,
    "start_time": "2025-02-22T23:20:59.523Z"
   },
   {
    "duration": 17676,
    "start_time": "2025-02-22T23:28:52.920Z"
   },
   {
    "duration": 18458,
    "start_time": "2025-02-22T23:47:33.012Z"
   },
   {
    "duration": 3656,
    "start_time": "2025-02-22T23:54:32.398Z"
   },
   {
    "duration": 3692,
    "start_time": "2025-02-22T23:54:55.042Z"
   },
   {
    "duration": 10810,
    "start_time": "2025-02-22T23:55:03.995Z"
   },
   {
    "duration": 5,
    "start_time": "2025-02-22T23:56:50.037Z"
   },
   {
    "duration": 786,
    "start_time": "2025-02-23T03:35:20.365Z"
   },
   {
    "duration": 405,
    "start_time": "2025-02-23T03:35:21.153Z"
   },
   {
    "duration": 8,
    "start_time": "2025-02-23T03:35:21.560Z"
   },
   {
    "duration": 4,
    "start_time": "2025-02-23T03:35:21.571Z"
   },
   {
    "duration": 4,
    "start_time": "2025-02-23T03:35:21.576Z"
   },
   {
    "duration": 52,
    "start_time": "2025-02-23T03:35:21.582Z"
   },
   {
    "duration": 134,
    "start_time": "2025-02-23T03:35:21.636Z"
   },
   {
    "duration": 437,
    "start_time": "2025-02-23T03:35:21.772Z"
   },
   {
    "duration": 90,
    "start_time": "2025-02-23T03:35:22.210Z"
   },
   {
    "duration": 13,
    "start_time": "2025-02-23T03:35:22.302Z"
   },
   {
    "duration": 3499,
    "start_time": "2025-02-23T03:35:22.316Z"
   },
   {
    "duration": 3694,
    "start_time": "2025-02-23T03:35:25.817Z"
   },
   {
    "duration": 12026,
    "start_time": "2025-02-23T03:35:29.513Z"
   },
   {
    "duration": 5,
    "start_time": "2025-02-23T03:36:01.673Z"
   },
   {
    "duration": 11,
    "start_time": "2025-02-23T03:38:00.548Z"
   },
   {
    "duration": 2640,
    "start_time": "2025-02-24T16:05:51.736Z"
   },
   {
    "duration": 449,
    "start_time": "2025-02-24T16:05:54.378Z"
   },
   {
    "duration": 8,
    "start_time": "2025-02-24T16:05:54.829Z"
   },
   {
    "duration": 8,
    "start_time": "2025-02-24T16:05:54.840Z"
   },
   {
    "duration": 5,
    "start_time": "2025-02-24T16:05:54.850Z"
   },
   {
    "duration": 55,
    "start_time": "2025-02-24T16:05:54.856Z"
   },
   {
    "duration": 154,
    "start_time": "2025-02-24T16:05:54.913Z"
   },
   {
    "duration": 449,
    "start_time": "2025-02-24T16:05:55.069Z"
   },
   {
    "duration": 99,
    "start_time": "2025-02-24T16:05:55.520Z"
   },
   {
    "duration": 7,
    "start_time": "2025-02-24T16:05:55.621Z"
   },
   {
    "duration": 3598,
    "start_time": "2025-02-24T16:05:55.630Z"
   },
   {
    "duration": 3541,
    "start_time": "2025-02-24T16:05:59.230Z"
   },
   {
    "duration": 10678,
    "start_time": "2025-02-24T16:06:02.772Z"
   },
   {
    "duration": 446,
    "start_time": "2025-02-24T16:09:36.997Z"
   },
   {
    "duration": 118,
    "start_time": "2025-02-24T16:09:55.522Z"
   },
   {
    "duration": 141,
    "start_time": "2025-02-24T16:13:04.192Z"
   },
   {
    "duration": 149,
    "start_time": "2025-02-24T16:14:48.686Z"
   },
   {
    "duration": 7,
    "start_time": "2025-02-24T16:15:22.381Z"
   },
   {
    "duration": 146,
    "start_time": "2025-02-24T16:15:40.065Z"
   },
   {
    "duration": 144,
    "start_time": "2025-02-24T16:15:55.142Z"
   },
   {
    "duration": 131,
    "start_time": "2025-02-24T16:20:49.131Z"
   },
   {
    "duration": 163,
    "start_time": "2025-02-24T16:36:32.673Z"
   },
   {
    "duration": 98,
    "start_time": "2025-02-24T16:37:52.415Z"
   },
   {
    "duration": 11,
    "start_time": "2025-02-24T16:42:27.597Z"
   },
   {
    "duration": 159,
    "start_time": "2025-02-24T16:43:32.330Z"
   },
   {
    "duration": 9,
    "start_time": "2025-02-24T19:43:07.480Z"
   },
   {
    "duration": 8,
    "start_time": "2025-02-24T19:43:37.539Z"
   },
   {
    "duration": 580,
    "start_time": "2025-02-24T19:45:01.696Z"
   },
   {
    "duration": 103,
    "start_time": "2025-02-24T19:48:29.373Z"
   },
   {
    "duration": 605,
    "start_time": "2025-02-24T19:48:50.794Z"
   },
   {
    "duration": 1064,
    "start_time": "2025-02-24T19:49:13.109Z"
   },
   {
    "duration": 602,
    "start_time": "2025-02-24T19:49:31.352Z"
   },
   {
    "duration": 646,
    "start_time": "2025-02-24T19:49:42.491Z"
   },
   {
    "duration": 507,
    "start_time": "2025-02-24T19:49:51.253Z"
   },
   {
    "duration": 564,
    "start_time": "2025-02-24T19:51:19.700Z"
   },
   {
    "duration": 15,
    "start_time": "2025-02-24T20:05:40.943Z"
   },
   {
    "duration": 163,
    "start_time": "2025-02-24T20:07:17.864Z"
   },
   {
    "duration": 170,
    "start_time": "2025-02-24T20:08:19.020Z"
   },
   {
    "duration": 2,
    "start_time": "2025-02-24T20:12:17.721Z"
   },
   {
    "duration": 900,
    "start_time": "2025-02-24T20:12:59.751Z"
   },
   {
    "duration": 7,
    "start_time": "2025-02-24T20:24:52.776Z"
   },
   {
    "duration": 177,
    "start_time": "2025-02-24T20:30:25.793Z"
   },
   {
    "duration": 174,
    "start_time": "2025-02-24T20:30:33.903Z"
   },
   {
    "duration": 458,
    "start_time": "2025-02-24T20:35:00.992Z"
   },
   {
    "duration": 43,
    "start_time": "2025-02-24T20:36:01.166Z"
   },
   {
    "duration": 6,
    "start_time": "2025-02-24T20:36:16.026Z"
   },
   {
    "duration": 17,
    "start_time": "2025-02-24T20:38:13.625Z"
   },
   {
    "duration": 22,
    "start_time": "2025-02-24T20:40:11.800Z"
   },
   {
    "duration": 21,
    "start_time": "2025-02-24T20:44:58.138Z"
   },
   {
    "duration": 20,
    "start_time": "2025-02-24T20:45:09.044Z"
   },
   {
    "duration": 15,
    "start_time": "2025-02-24T20:50:23.786Z"
   },
   {
    "duration": 20,
    "start_time": "2025-02-24T20:51:08.370Z"
   },
   {
    "duration": 9,
    "start_time": "2025-02-24T20:52:08.708Z"
   },
   {
    "duration": 6,
    "start_time": "2025-02-24T20:52:37.245Z"
   },
   {
    "duration": 7,
    "start_time": "2025-02-24T20:52:55.996Z"
   },
   {
    "duration": 7,
    "start_time": "2025-02-24T20:53:04.223Z"
   },
   {
    "duration": 7,
    "start_time": "2025-02-24T20:55:16.710Z"
   },
   {
    "duration": 16,
    "start_time": "2025-02-24T20:55:26.120Z"
   },
   {
    "duration": 3,
    "start_time": "2025-02-24T20:55:46.272Z"
   },
   {
    "duration": 48,
    "start_time": "2025-02-24T20:57:48.858Z"
   },
   {
    "duration": 14,
    "start_time": "2025-02-24T20:58:09.043Z"
   },
   {
    "duration": 12,
    "start_time": "2025-02-24T21:28:05.446Z"
   },
   {
    "duration": 247,
    "start_time": "2025-02-25T02:08:35.354Z"
   },
   {
    "duration": 2576,
    "start_time": "2025-02-25T02:08:53.057Z"
   },
   {
    "duration": 399,
    "start_time": "2025-02-25T02:08:55.635Z"
   },
   {
    "duration": 7,
    "start_time": "2025-02-25T02:08:56.036Z"
   },
   {
    "duration": 4,
    "start_time": "2025-02-25T02:08:56.045Z"
   },
   {
    "duration": 4,
    "start_time": "2025-02-25T02:08:56.050Z"
   },
   {
    "duration": 51,
    "start_time": "2025-02-25T02:08:56.056Z"
   },
   {
    "duration": 143,
    "start_time": "2025-02-25T02:08:56.108Z"
   },
   {
    "duration": 125,
    "start_time": "2025-02-25T02:08:56.253Z"
   },
   {
    "duration": 134,
    "start_time": "2025-02-25T02:08:56.381Z"
   },
   {
    "duration": 105,
    "start_time": "2025-02-25T02:08:56.519Z"
   },
   {
    "duration": 19,
    "start_time": "2025-02-25T02:08:56.625Z"
   },
   {
    "duration": 152,
    "start_time": "2025-02-25T02:08:56.646Z"
   },
   {
    "duration": 870,
    "start_time": "2025-02-25T02:08:56.800Z"
   },
   {
    "duration": 8,
    "start_time": "2025-02-25T02:08:57.671Z"
   },
   {
    "duration": 475,
    "start_time": "2025-02-25T02:08:57.681Z"
   },
   {
    "duration": 8,
    "start_time": "2025-02-25T02:08:58.158Z"
   },
   {
    "duration": 146,
    "start_time": "2025-02-25T02:08:58.168Z"
   },
   {
    "duration": 31,
    "start_time": "2025-02-25T02:08:58.316Z"
   },
   {
    "duration": 3,
    "start_time": "2025-02-25T02:08:58.348Z"
   },
   {
    "duration": 63,
    "start_time": "2025-02-25T02:08:58.353Z"
   },
   {
    "duration": 26,
    "start_time": "2025-02-25T02:08:58.417Z"
   },
   {
    "duration": 9,
    "start_time": "2025-02-25T02:08:58.445Z"
   },
   {
    "duration": 96,
    "start_time": "2025-02-25T02:08:58.456Z"
   },
   {
    "duration": 0,
    "start_time": "2025-02-25T02:08:58.554Z"
   },
   {
    "duration": 0,
    "start_time": "2025-02-25T02:08:58.555Z"
   },
   {
    "duration": 0,
    "start_time": "2025-02-25T02:08:58.557Z"
   },
   {
    "duration": 0,
    "start_time": "2025-02-25T02:08:58.559Z"
   },
   {
    "duration": 0,
    "start_time": "2025-02-25T02:08:58.560Z"
   },
   {
    "duration": 16,
    "start_time": "2025-02-25T02:10:48.145Z"
   },
   {
    "duration": 13,
    "start_time": "2025-02-25T02:11:20.536Z"
   },
   {
    "duration": 24,
    "start_time": "2025-02-25T02:13:32.918Z"
   },
   {
    "duration": 6,
    "start_time": "2025-02-25T02:15:19.529Z"
   },
   {
    "duration": 4,
    "start_time": "2025-02-25T02:15:34.414Z"
   },
   {
    "duration": 4,
    "start_time": "2025-02-25T02:17:52.630Z"
   },
   {
    "duration": 4,
    "start_time": "2025-02-25T02:18:28.974Z"
   },
   {
    "duration": 3,
    "start_time": "2025-02-25T02:18:39.280Z"
   },
   {
    "duration": 3,
    "start_time": "2025-02-25T02:18:48.046Z"
   },
   {
    "duration": 2490,
    "start_time": "2025-02-25T03:19:46.652Z"
   },
   {
    "duration": 431,
    "start_time": "2025-02-25T03:19:49.145Z"
   },
   {
    "duration": 6,
    "start_time": "2025-02-25T03:19:49.578Z"
   },
   {
    "duration": 4,
    "start_time": "2025-02-25T03:19:49.586Z"
   },
   {
    "duration": 4,
    "start_time": "2025-02-25T03:19:49.593Z"
   },
   {
    "duration": 48,
    "start_time": "2025-02-25T03:19:49.599Z"
   },
   {
    "duration": 139,
    "start_time": "2025-02-25T03:19:49.649Z"
   },
   {
    "duration": 125,
    "start_time": "2025-02-25T03:19:49.789Z"
   },
   {
    "duration": 141,
    "start_time": "2025-02-25T03:19:49.916Z"
   },
   {
    "duration": 107,
    "start_time": "2025-02-25T03:19:50.059Z"
   },
   {
    "duration": 11,
    "start_time": "2025-02-25T03:19:50.168Z"
   },
   {
    "duration": 160,
    "start_time": "2025-02-25T03:19:50.182Z"
   },
   {
    "duration": 868,
    "start_time": "2025-02-25T03:19:50.344Z"
   },
   {
    "duration": 9,
    "start_time": "2025-02-25T03:19:51.215Z"
   },
   {
    "duration": 512,
    "start_time": "2025-02-25T03:19:51.225Z"
   },
   {
    "duration": 6,
    "start_time": "2025-02-25T03:19:51.739Z"
   },
   {
    "duration": 144,
    "start_time": "2025-02-25T03:19:51.747Z"
   },
   {
    "duration": 31,
    "start_time": "2025-02-25T03:19:51.892Z"
   },
   {
    "duration": 3,
    "start_time": "2025-02-25T03:19:51.925Z"
   },
   {
    "duration": 16,
    "start_time": "2025-02-25T03:19:51.930Z"
   },
   {
    "duration": 11,
    "start_time": "2025-02-25T03:19:51.947Z"
   },
   {
    "duration": 9,
    "start_time": "2025-02-25T03:19:51.960Z"
   },
   {
    "duration": 9,
    "start_time": "2025-02-25T03:19:51.971Z"
   },
   {
    "duration": 24,
    "start_time": "2025-02-25T03:19:52.012Z"
   },
   {
    "duration": 6,
    "start_time": "2025-02-25T03:19:52.037Z"
   },
   {
    "duration": 700,
    "start_time": "2025-02-25T03:19:52.045Z"
   },
   {
    "duration": 0,
    "start_time": "2025-02-25T03:19:52.747Z"
   },
   {
    "duration": 0,
    "start_time": "2025-02-25T03:19:52.748Z"
   },
   {
    "duration": 0,
    "start_time": "2025-02-25T03:19:52.749Z"
   },
   {
    "duration": 4,
    "start_time": "2025-02-25T03:23:10.310Z"
   },
   {
    "duration": 6,
    "start_time": "2025-02-25T03:24:52.508Z"
   },
   {
    "duration": 9,
    "start_time": "2025-02-25T03:54:10.190Z"
   },
   {
    "duration": 13,
    "start_time": "2025-02-25T03:56:04.016Z"
   },
   {
    "duration": 25,
    "start_time": "2025-02-25T04:00:35.358Z"
   },
   {
    "duration": 2533,
    "start_time": "2025-02-25T14:27:26.853Z"
   },
   {
    "duration": 408,
    "start_time": "2025-02-25T14:27:29.388Z"
   },
   {
    "duration": 6,
    "start_time": "2025-02-25T14:27:29.798Z"
   },
   {
    "duration": 4,
    "start_time": "2025-02-25T14:27:29.806Z"
   },
   {
    "duration": 5,
    "start_time": "2025-02-25T14:27:29.812Z"
   },
   {
    "duration": 48,
    "start_time": "2025-02-25T14:27:29.819Z"
   },
   {
    "duration": 136,
    "start_time": "2025-02-25T14:27:29.869Z"
   },
   {
    "duration": 124,
    "start_time": "2025-02-25T14:27:30.007Z"
   },
   {
    "duration": 136,
    "start_time": "2025-02-25T14:27:30.132Z"
   },
   {
    "duration": 109,
    "start_time": "2025-02-25T14:27:30.269Z"
   },
   {
    "duration": 12,
    "start_time": "2025-02-25T14:27:30.380Z"
   },
   {
    "duration": 173,
    "start_time": "2025-02-25T14:27:30.393Z"
   },
   {
    "duration": 876,
    "start_time": "2025-02-25T14:27:30.568Z"
   },
   {
    "duration": 9,
    "start_time": "2025-02-25T14:27:31.447Z"
   },
   {
    "duration": 538,
    "start_time": "2025-02-25T14:27:31.457Z"
   },
   {
    "duration": 7,
    "start_time": "2025-02-25T14:27:31.997Z"
   },
   {
    "duration": 139,
    "start_time": "2025-02-25T14:27:32.005Z"
   },
   {
    "duration": 24,
    "start_time": "2025-02-25T14:27:32.145Z"
   },
   {
    "duration": 2,
    "start_time": "2025-02-25T14:27:32.171Z"
   },
   {
    "duration": 18,
    "start_time": "2025-02-25T14:27:32.176Z"
   },
   {
    "duration": 11,
    "start_time": "2025-02-25T14:27:32.195Z"
   },
   {
    "duration": 34,
    "start_time": "2025-02-25T14:27:32.209Z"
   },
   {
    "duration": 10,
    "start_time": "2025-02-25T14:27:32.245Z"
   },
   {
    "duration": 23,
    "start_time": "2025-02-25T14:27:32.257Z"
   },
   {
    "duration": 4,
    "start_time": "2025-02-25T14:27:32.282Z"
   },
   {
    "duration": 6,
    "start_time": "2025-02-25T14:27:32.288Z"
   },
   {
    "duration": 8,
    "start_time": "2025-02-25T14:27:32.295Z"
   },
   {
    "duration": 48,
    "start_time": "2025-02-25T14:27:32.305Z"
   },
   {
    "duration": 25,
    "start_time": "2025-02-25T14:27:32.354Z"
   },
   {
    "duration": 3606,
    "start_time": "2025-02-25T14:27:32.381Z"
   },
   {
    "duration": 3466,
    "start_time": "2025-02-25T14:27:35.989Z"
   },
   {
    "duration": 10815,
    "start_time": "2025-02-25T14:27:39.458Z"
   },
   {
    "duration": 227,
    "start_time": "2025-02-25T14:31:41.503Z"
   },
   {
    "duration": 13,
    "start_time": "2025-02-25T14:35:50.817Z"
   },
   {
    "duration": 10,
    "start_time": "2025-02-25T14:36:01.523Z"
   },
   {
    "duration": 355,
    "start_time": "2025-02-25T14:39:31.528Z"
   },
   {
    "duration": 489,
    "start_time": "2025-02-25T14:40:42.031Z"
   },
   {
    "duration": 906,
    "start_time": "2025-02-25T14:44:20.782Z"
   },
   {
    "duration": 481,
    "start_time": "2025-02-25T14:46:10.565Z"
   },
   {
    "duration": 916,
    "start_time": "2025-02-25T14:49:41.516Z"
   },
   {
    "duration": 827,
    "start_time": "2025-02-25T14:49:58.659Z"
   },
   {
    "duration": 770,
    "start_time": "2025-02-25T14:52:53.673Z"
   },
   {
    "duration": 815,
    "start_time": "2025-02-25T15:12:23.841Z"
   },
   {
    "duration": 785,
    "start_time": "2025-02-25T15:13:56.613Z"
   },
   {
    "duration": 6,
    "start_time": "2025-02-25T15:15:33.544Z"
   },
   {
    "duration": 504,
    "start_time": "2025-02-25T15:17:32.218Z"
   },
   {
    "duration": 401,
    "start_time": "2025-02-25T15:20:11.551Z"
   },
   {
    "duration": 2748,
    "start_time": "2025-02-26T17:51:07.682Z"
   },
   {
    "duration": 530,
    "start_time": "2025-02-26T17:51:10.432Z"
   },
   {
    "duration": 8,
    "start_time": "2025-02-26T17:51:10.963Z"
   },
   {
    "duration": 6,
    "start_time": "2025-02-26T17:51:10.974Z"
   },
   {
    "duration": 4,
    "start_time": "2025-02-26T17:51:10.982Z"
   },
   {
    "duration": 65,
    "start_time": "2025-02-26T17:51:10.988Z"
   },
   {
    "duration": 187,
    "start_time": "2025-02-26T17:51:11.056Z"
   },
   {
    "duration": 141,
    "start_time": "2025-02-26T17:51:11.245Z"
   },
   {
    "duration": 147,
    "start_time": "2025-02-26T17:51:11.388Z"
   },
   {
    "duration": 114,
    "start_time": "2025-02-26T17:51:11.538Z"
   },
   {
    "duration": 14,
    "start_time": "2025-02-26T17:51:11.655Z"
   },
   {
    "duration": 186,
    "start_time": "2025-02-26T17:51:11.672Z"
   },
   {
    "duration": 866,
    "start_time": "2025-02-26T17:51:11.860Z"
   },
   {
    "duration": 9,
    "start_time": "2025-02-26T17:51:12.728Z"
   },
   {
    "duration": 640,
    "start_time": "2025-02-26T17:51:12.739Z"
   },
   {
    "duration": 8,
    "start_time": "2025-02-26T17:51:13.386Z"
   },
   {
    "duration": 181,
    "start_time": "2025-02-26T17:51:13.396Z"
   },
   {
    "duration": 33,
    "start_time": "2025-02-26T17:51:13.579Z"
   },
   {
    "duration": 3,
    "start_time": "2025-02-26T17:51:13.615Z"
   },
   {
    "duration": 17,
    "start_time": "2025-02-26T17:51:13.619Z"
   },
   {
    "duration": 11,
    "start_time": "2025-02-26T17:51:13.638Z"
   },
   {
    "duration": 36,
    "start_time": "2025-02-26T17:51:13.651Z"
   },
   {
    "duration": 16,
    "start_time": "2025-02-26T17:51:13.689Z"
   },
   {
    "duration": 26,
    "start_time": "2025-02-26T17:51:13.706Z"
   },
   {
    "duration": 4,
    "start_time": "2025-02-26T17:51:13.733Z"
   },
   {
    "duration": 6,
    "start_time": "2025-02-26T17:51:13.739Z"
   },
   {
    "duration": 10,
    "start_time": "2025-02-26T17:51:13.748Z"
   },
   {
    "duration": 16,
    "start_time": "2025-02-26T17:51:13.786Z"
   },
   {
    "duration": 36,
    "start_time": "2025-02-26T17:51:13.804Z"
   },
   {
    "duration": 774,
    "start_time": "2025-02-26T17:51:13.841Z"
   },
   {
    "duration": 286,
    "start_time": "2025-02-26T17:55:08.733Z"
   },
   {
    "duration": 761,
    "start_time": "2025-02-26T17:56:30.830Z"
   },
   {
    "duration": 691,
    "start_time": "2025-02-26T18:04:07.400Z"
   },
   {
    "duration": 683,
    "start_time": "2025-02-26T18:04:33.034Z"
   },
   {
    "duration": 694,
    "start_time": "2025-02-26T18:05:58.999Z"
   },
   {
    "duration": 616,
    "start_time": "2025-02-26T18:15:52.437Z"
   },
   {
    "duration": 823,
    "start_time": "2025-02-26T18:31:31.716Z"
   },
   {
    "duration": 658,
    "start_time": "2025-02-26T18:32:30.699Z"
   }
  ],
  "kernelspec": {
   "display_name": "Python 3",
   "language": "python",
   "name": "python3"
  },
  "language_info": {
   "codemirror_mode": {
    "name": "ipython",
    "version": 3
   },
   "file_extension": ".py",
   "mimetype": "text/x-python",
   "name": "python",
   "nbconvert_exporter": "python",
   "pygments_lexer": "ipython3",
   "version": "3.13.1"
  },
  "toc": {
   "base_numbering": 1,
   "nav_menu": {},
   "number_sections": true,
   "sideBar": true,
   "skip_h1_title": true,
   "title_cell": "Table of Contents",
   "title_sidebar": "Contents",
   "toc_cell": false,
   "toc_position": {},
   "toc_section_display": true,
   "toc_window_display": false
  }
 },
 "nbformat": 4,
 "nbformat_minor": 2
}
